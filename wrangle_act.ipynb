{
 "cells": [
  {
   "cell_type": "markdown",
   "id": "369e7029-b45b-4a3c-a94e-dd309cb99d4c",
   "metadata": {},
   "source": [
    "# Data Wrangling and Analysis"
   ]
  },
  {
   "cell_type": "markdown",
   "id": "9e51d472-3f46-444c-9cd1-16d93a7b80d2",
   "metadata": {},
   "source": [
    "## Table of Contents\n",
    "1. [Introduction ](#1.Introduction)\\\n",
    "    1.0 [Importing Libraries](#1.0-Importing-Libraries)\\\n",
    "    1.1 [Gathering Data](#1.1-Gathering-Data)\\\n",
    "    1.2 [Using Request Library to Gather Data](#1.2-Using-Request-Library-to-Gather-Data)\\\n",
    "    1.3 [Gathering Data With Twitter API](#1.3-Gathering-Data-With-Twitter-API)\n",
    "2. [Assessing Data](#2.-Assessing-Data)\\\n",
    "    2.1 [Reviewing Data Quality and Tidiness](#2.1-Reviewing-Data-Quality-and-Tidiness)\\\n",
    "    2.2 [Data Quality Issues Identified While Assessing Data](#2.2-Data-quality-issues-identified-while-assessing-data)\\\n",
    "    2.3 [Data Tidiness Issues Identified While Assessing Data](#2.3-Data-tidiness-issues-identified-while-assessing-the-data)\n",
    "3. [Cleaning The Data](#3.-Cleaning-The-Data)\\\n",
    "    3.1 [Further Cleaning](#3.1-Further-Cleaning)\\\n",
    "    3.2 [Correcting the image prediction column names](#3.2-Correcting-the-image-prediction-column-names)\\\n",
    "    3.3 [Fixing Tidiness Issues](#3.3-Fixing-Tidiness-Issues)\n",
    "4. [Storing The Data](#4.-Storing-The-Data)\n",
    "5. [Analysing and Visualing The Data](#5.-Analysing-and-Visualising-the-Data)"
   ]
  },
  {
   "cell_type": "markdown",
   "id": "959d9adb-977b-4074-a0eb-1cffa56d1b34",
   "metadata": {
    "tags": []
   },
   "source": [
    "## 1. Introduction\n",
    "> The tweet archive of the Twitter user @dog rates, commonly known as WeRateDogs, is the subject of this dataset. This account rate people’s dogs and comments accordingly. To start the data wrangling and analysis process, the required datasets will be gathered using the request library and also via the Twitter API, then assessed visually and programmatically. The datasets will then be cleaned to remove unclean and untidy data. To produce the necessary results, an exploratory data analysis (EDA) will be conducted using matplotlib and seaborn."
   ]
  },
  {
   "cell_type": "markdown",
   "id": "696f11b8-c315-41f5-8f8f-3739d0cdbf71",
   "metadata": {
    "tags": []
   },
   "source": [
    "### 1.0 Importing Libraries"
   ]
  },
  {
   "cell_type": "code",
   "execution_count": 2,
   "id": "aa459ce8-a0c8-4e07-9d2e-1dd4d1b8dfd8",
   "metadata": {},
   "outputs": [],
   "source": [
    "import pandas as pd\n",
    "import requests\n",
    "import json\n",
    "import numpy as np\n",
    "import seaborn as sns\n",
    "import matplotlib.pyplot as plt\n",
    "from timeit import default_timer as timer\n",
    "from PIL import Image\n",
    "import cv2\n",
    "import tweepy\n",
    "import requests\n",
    "import os\n",
    "import re"
   ]
  },
  {
   "cell_type": "markdown",
   "id": "ab9faa0f-e97c-431e-b9b2-1454f3c15635",
   "metadata": {
    "tags": []
   },
   "source": [
    "### 1.1 Gathering Data"
   ]
  },
  {
   "cell_type": "code",
   "execution_count": 3,
   "id": "c85a5ccf-7a17-40a6-898c-86e181846b3a",
   "metadata": {},
   "outputs": [],
   "source": [
    "df_twitter = pd.read_csv('twitter-archive-enhanced.csv')"
   ]
  },
  {
   "cell_type": "code",
   "execution_count": 4,
   "id": "f81fd30b-c3d1-4bbb-bc53-e08b198ee187",
   "metadata": {},
   "outputs": [
    {
     "data": {
      "text/html": [
       "<div>\n",
       "<style scoped>\n",
       "    .dataframe tbody tr th:only-of-type {\n",
       "        vertical-align: middle;\n",
       "    }\n",
       "\n",
       "    .dataframe tbody tr th {\n",
       "        vertical-align: top;\n",
       "    }\n",
       "\n",
       "    .dataframe thead th {\n",
       "        text-align: right;\n",
       "    }\n",
       "</style>\n",
       "<table border=\"1\" class=\"dataframe\">\n",
       "  <thead>\n",
       "    <tr style=\"text-align: right;\">\n",
       "      <th></th>\n",
       "      <th>tweet_id</th>\n",
       "      <th>in_reply_to_status_id</th>\n",
       "      <th>in_reply_to_user_id</th>\n",
       "      <th>timestamp</th>\n",
       "      <th>source</th>\n",
       "      <th>text</th>\n",
       "      <th>retweeted_status_id</th>\n",
       "      <th>retweeted_status_user_id</th>\n",
       "      <th>retweeted_status_timestamp</th>\n",
       "      <th>expanded_urls</th>\n",
       "      <th>rating_numerator</th>\n",
       "      <th>rating_denominator</th>\n",
       "      <th>name</th>\n",
       "      <th>doggo</th>\n",
       "      <th>floofer</th>\n",
       "      <th>pupper</th>\n",
       "      <th>puppo</th>\n",
       "    </tr>\n",
       "  </thead>\n",
       "  <tbody>\n",
       "    <tr>\n",
       "      <th>0</th>\n",
       "      <td>892420643555336193</td>\n",
       "      <td>NaN</td>\n",
       "      <td>NaN</td>\n",
       "      <td>2017-08-01 16:23:56 +0000</td>\n",
       "      <td>&lt;a href=\"http://twitter.com/download/iphone\" r...</td>\n",
       "      <td>This is Phineas. He's a mystical boy. Only eve...</td>\n",
       "      <td>NaN</td>\n",
       "      <td>NaN</td>\n",
       "      <td>NaN</td>\n",
       "      <td>https://twitter.com/dog_rates/status/892420643...</td>\n",
       "      <td>13</td>\n",
       "      <td>10</td>\n",
       "      <td>Phineas</td>\n",
       "      <td>None</td>\n",
       "      <td>None</td>\n",
       "      <td>None</td>\n",
       "      <td>None</td>\n",
       "    </tr>\n",
       "    <tr>\n",
       "      <th>1</th>\n",
       "      <td>892177421306343426</td>\n",
       "      <td>NaN</td>\n",
       "      <td>NaN</td>\n",
       "      <td>2017-08-01 00:17:27 +0000</td>\n",
       "      <td>&lt;a href=\"http://twitter.com/download/iphone\" r...</td>\n",
       "      <td>This is Tilly. She's just checking pup on you....</td>\n",
       "      <td>NaN</td>\n",
       "      <td>NaN</td>\n",
       "      <td>NaN</td>\n",
       "      <td>https://twitter.com/dog_rates/status/892177421...</td>\n",
       "      <td>13</td>\n",
       "      <td>10</td>\n",
       "      <td>Tilly</td>\n",
       "      <td>None</td>\n",
       "      <td>None</td>\n",
       "      <td>None</td>\n",
       "      <td>None</td>\n",
       "    </tr>\n",
       "  </tbody>\n",
       "</table>\n",
       "</div>"
      ],
      "text/plain": [
       "             tweet_id  in_reply_to_status_id  in_reply_to_user_id  \\\n",
       "0  892420643555336193                    NaN                  NaN   \n",
       "1  892177421306343426                    NaN                  NaN   \n",
       "\n",
       "                   timestamp  \\\n",
       "0  2017-08-01 16:23:56 +0000   \n",
       "1  2017-08-01 00:17:27 +0000   \n",
       "\n",
       "                                              source  \\\n",
       "0  <a href=\"http://twitter.com/download/iphone\" r...   \n",
       "1  <a href=\"http://twitter.com/download/iphone\" r...   \n",
       "\n",
       "                                                text  retweeted_status_id  \\\n",
       "0  This is Phineas. He's a mystical boy. Only eve...                  NaN   \n",
       "1  This is Tilly. She's just checking pup on you....                  NaN   \n",
       "\n",
       "   retweeted_status_user_id retweeted_status_timestamp  \\\n",
       "0                       NaN                        NaN   \n",
       "1                       NaN                        NaN   \n",
       "\n",
       "                                       expanded_urls  rating_numerator  \\\n",
       "0  https://twitter.com/dog_rates/status/892420643...                13   \n",
       "1  https://twitter.com/dog_rates/status/892177421...                13   \n",
       "\n",
       "   rating_denominator     name doggo floofer pupper puppo  \n",
       "0                  10  Phineas  None    None   None  None  \n",
       "1                  10    Tilly  None    None   None  None  "
      ]
     },
     "execution_count": 4,
     "metadata": {},
     "output_type": "execute_result"
    }
   ],
   "source": [
    "#checking the csv file was read successfully\n",
    "df_twitter.head(2)"
   ]
  },
  {
   "cell_type": "code",
   "execution_count": 5,
   "id": "a2258d13-a2f3-4584-969a-d2ca625dbea5",
   "metadata": {},
   "outputs": [
    {
     "name": "stdout",
     "output_type": "stream",
     "text": [
      "<class 'pandas.core.frame.DataFrame'>\n",
      "RangeIndex: 2356 entries, 0 to 2355\n",
      "Data columns (total 17 columns):\n",
      " #   Column                      Non-Null Count  Dtype  \n",
      "---  ------                      --------------  -----  \n",
      " 0   tweet_id                    2356 non-null   int64  \n",
      " 1   in_reply_to_status_id       78 non-null     float64\n",
      " 2   in_reply_to_user_id         78 non-null     float64\n",
      " 3   timestamp                   2356 non-null   object \n",
      " 4   source                      2356 non-null   object \n",
      " 5   text                        2356 non-null   object \n",
      " 6   retweeted_status_id         181 non-null    float64\n",
      " 7   retweeted_status_user_id    181 non-null    float64\n",
      " 8   retweeted_status_timestamp  181 non-null    object \n",
      " 9   expanded_urls               2297 non-null   object \n",
      " 10  rating_numerator            2356 non-null   int64  \n",
      " 11  rating_denominator          2356 non-null   int64  \n",
      " 12  name                        2356 non-null   object \n",
      " 13  doggo                       2356 non-null   object \n",
      " 14  floofer                     2356 non-null   object \n",
      " 15  pupper                      2356 non-null   object \n",
      " 16  puppo                       2356 non-null   object \n",
      "dtypes: float64(4), int64(3), object(10)\n",
      "memory usage: 313.0+ KB\n"
     ]
    }
   ],
   "source": [
    "df_twitter.info()"
   ]
  },
  {
   "cell_type": "markdown",
   "id": "8739149b-3503-4439-b0a3-03298ae4f765",
   "metadata": {
    "tags": []
   },
   "source": [
    "### 1.2 Using Request Library to Gather Data"
   ]
  },
  {
   "cell_type": "code",
   "execution_count": 6,
   "id": "95925568-64f5-4df3-b0cc-1c0fed12a847",
   "metadata": {},
   "outputs": [],
   "source": [
    "#creating folder directory\n",
    "foldername = 'image-predictions'\n",
    "if not os.path.exists('image-predictions'):\n",
    "    os.makedirs('image-predictions')"
   ]
  },
  {
   "cell_type": "code",
   "execution_count": 7,
   "id": "2ea6e020-34eb-4b94-bfdb-e7e9722536c2",
   "metadata": {},
   "outputs": [],
   "source": [
    "#creating the request\n",
    "url = 'https://d17h27t6h515a5.cloudfront.net/topher/2017/August/599fd2ad_image-predictions/image-predictions.tsv'\n",
    "response = requests.get(url)"
   ]
  },
  {
   "cell_type": "code",
   "execution_count": 8,
   "id": "2f3bdf90-4543-4065-923f-66ff5fea52c3",
   "metadata": {},
   "outputs": [],
   "source": [
    "#downloading the image-predictions file programmatically\n",
    "with open(os.path.join(foldername, url.split('/')[-1]), mode = 'wb') as file:\n",
    "    file.write(response.content)"
   ]
  },
  {
   "cell_type": "code",
   "execution_count": 9,
   "id": "71eb2d75-c986-4b54-85bd-f90ff5aa3211",
   "metadata": {},
   "outputs": [
    {
     "data": {
      "text/html": [
       "<div>\n",
       "<style scoped>\n",
       "    .dataframe tbody tr th:only-of-type {\n",
       "        vertical-align: middle;\n",
       "    }\n",
       "\n",
       "    .dataframe tbody tr th {\n",
       "        vertical-align: top;\n",
       "    }\n",
       "\n",
       "    .dataframe thead th {\n",
       "        text-align: right;\n",
       "    }\n",
       "</style>\n",
       "<table border=\"1\" class=\"dataframe\">\n",
       "  <thead>\n",
       "    <tr style=\"text-align: right;\">\n",
       "      <th></th>\n",
       "      <th>tweet_id</th>\n",
       "      <th>jpg_url</th>\n",
       "      <th>img_num</th>\n",
       "      <th>p1</th>\n",
       "      <th>p1_conf</th>\n",
       "      <th>p1_dog</th>\n",
       "      <th>p2</th>\n",
       "      <th>p2_conf</th>\n",
       "      <th>p2_dog</th>\n",
       "      <th>p3</th>\n",
       "      <th>p3_conf</th>\n",
       "      <th>p3_dog</th>\n",
       "    </tr>\n",
       "  </thead>\n",
       "  <tbody>\n",
       "    <tr>\n",
       "      <th>0</th>\n",
       "      <td>666020888022790149</td>\n",
       "      <td>https://pbs.twimg.com/media/CT4udn0WwAA0aMy.jpg</td>\n",
       "      <td>1</td>\n",
       "      <td>Welsh_springer_spaniel</td>\n",
       "      <td>0.465074</td>\n",
       "      <td>True</td>\n",
       "      <td>collie</td>\n",
       "      <td>0.156665</td>\n",
       "      <td>True</td>\n",
       "      <td>Shetland_sheepdog</td>\n",
       "      <td>0.061428</td>\n",
       "      <td>True</td>\n",
       "    </tr>\n",
       "    <tr>\n",
       "      <th>1</th>\n",
       "      <td>666029285002620928</td>\n",
       "      <td>https://pbs.twimg.com/media/CT42GRgUYAA5iDo.jpg</td>\n",
       "      <td>1</td>\n",
       "      <td>redbone</td>\n",
       "      <td>0.506826</td>\n",
       "      <td>True</td>\n",
       "      <td>miniature_pinscher</td>\n",
       "      <td>0.074192</td>\n",
       "      <td>True</td>\n",
       "      <td>Rhodesian_ridgeback</td>\n",
       "      <td>0.072010</td>\n",
       "      <td>True</td>\n",
       "    </tr>\n",
       "    <tr>\n",
       "      <th>2</th>\n",
       "      <td>666033412701032449</td>\n",
       "      <td>https://pbs.twimg.com/media/CT4521TWwAEvMyu.jpg</td>\n",
       "      <td>1</td>\n",
       "      <td>German_shepherd</td>\n",
       "      <td>0.596461</td>\n",
       "      <td>True</td>\n",
       "      <td>malinois</td>\n",
       "      <td>0.138584</td>\n",
       "      <td>True</td>\n",
       "      <td>bloodhound</td>\n",
       "      <td>0.116197</td>\n",
       "      <td>True</td>\n",
       "    </tr>\n",
       "    <tr>\n",
       "      <th>3</th>\n",
       "      <td>666044226329800704</td>\n",
       "      <td>https://pbs.twimg.com/media/CT5Dr8HUEAA-lEu.jpg</td>\n",
       "      <td>1</td>\n",
       "      <td>Rhodesian_ridgeback</td>\n",
       "      <td>0.408143</td>\n",
       "      <td>True</td>\n",
       "      <td>redbone</td>\n",
       "      <td>0.360687</td>\n",
       "      <td>True</td>\n",
       "      <td>miniature_pinscher</td>\n",
       "      <td>0.222752</td>\n",
       "      <td>True</td>\n",
       "    </tr>\n",
       "    <tr>\n",
       "      <th>4</th>\n",
       "      <td>666049248165822465</td>\n",
       "      <td>https://pbs.twimg.com/media/CT5IQmsXIAAKY4A.jpg</td>\n",
       "      <td>1</td>\n",
       "      <td>miniature_pinscher</td>\n",
       "      <td>0.560311</td>\n",
       "      <td>True</td>\n",
       "      <td>Rottweiler</td>\n",
       "      <td>0.243682</td>\n",
       "      <td>True</td>\n",
       "      <td>Doberman</td>\n",
       "      <td>0.154629</td>\n",
       "      <td>True</td>\n",
       "    </tr>\n",
       "  </tbody>\n",
       "</table>\n",
       "</div>"
      ],
      "text/plain": [
       "             tweet_id                                          jpg_url  \\\n",
       "0  666020888022790149  https://pbs.twimg.com/media/CT4udn0WwAA0aMy.jpg   \n",
       "1  666029285002620928  https://pbs.twimg.com/media/CT42GRgUYAA5iDo.jpg   \n",
       "2  666033412701032449  https://pbs.twimg.com/media/CT4521TWwAEvMyu.jpg   \n",
       "3  666044226329800704  https://pbs.twimg.com/media/CT5Dr8HUEAA-lEu.jpg   \n",
       "4  666049248165822465  https://pbs.twimg.com/media/CT5IQmsXIAAKY4A.jpg   \n",
       "\n",
       "   img_num                      p1   p1_conf  p1_dog                  p2  \\\n",
       "0        1  Welsh_springer_spaniel  0.465074    True              collie   \n",
       "1        1                 redbone  0.506826    True  miniature_pinscher   \n",
       "2        1         German_shepherd  0.596461    True            malinois   \n",
       "3        1     Rhodesian_ridgeback  0.408143    True             redbone   \n",
       "4        1      miniature_pinscher  0.560311    True          Rottweiler   \n",
       "\n",
       "    p2_conf  p2_dog                   p3   p3_conf  p3_dog  \n",
       "0  0.156665    True    Shetland_sheepdog  0.061428    True  \n",
       "1  0.074192    True  Rhodesian_ridgeback  0.072010    True  \n",
       "2  0.138584    True           bloodhound  0.116197    True  \n",
       "3  0.360687    True   miniature_pinscher  0.222752    True  \n",
       "4  0.243682    True             Doberman  0.154629    True  "
      ]
     },
     "execution_count": 9,
     "metadata": {},
     "output_type": "execute_result"
    }
   ],
   "source": [
    "#reading the image-prediction file\n",
    "image_df = pd.read_csv('image-predictions.tsv', sep='\\t')\n",
    "image_df.head()"
   ]
  },
  {
   "cell_type": "code",
   "execution_count": 10,
   "id": "97f97f31-28bd-474b-a08e-68a6e9e8e799",
   "metadata": {},
   "outputs": [
    {
     "data": {
      "text/plain": [
       "['tweet_id',\n",
       " 'jpg_url',\n",
       " 'img_num',\n",
       " 'p1',\n",
       " 'p1_conf',\n",
       " 'p1_dog',\n",
       " 'p2',\n",
       " 'p2_conf',\n",
       " 'p2_dog',\n",
       " 'p3',\n",
       " 'p3_conf',\n",
       " 'p3_dog']"
      ]
     },
     "execution_count": 10,
     "metadata": {},
     "output_type": "execute_result"
    }
   ],
   "source": [
    "#reviewing the file\n",
    "list(image_df)"
   ]
  },
  {
   "cell_type": "markdown",
   "id": "8d0ecc7f-f305-4ec0-b52a-bfdeb7b0ce02",
   "metadata": {
    "tags": []
   },
   "source": [
    "### 1.3 Gathering Data With Twitter API"
   ]
  },
  {
   "cell_type": "code",
   "execution_count": 11,
   "id": "bc00466c-579a-4e55-b4a3-347578772b4e",
   "metadata": {},
   "outputs": [],
   "source": [
    "#Querying twitter API\n",
    "consumer_key = 'HIDDEN'\n",
    "consumer_secret = 'HIDDEN'\n",
    "access_token = 'HIDDEN'\n",
    "access_secret = 'HIDDEN'\n",
    "\n",
    "auth = tweepy.OAuthHandler(consumer_key, consumer_secret)\n",
    "auth.set_access_token(access_token, access_secret)\n",
    "\n",
    "api = tweepy.API(auth, wait_on_rate_limit = True)"
   ]
  },
  {
   "cell_type": "code",
   "execution_count": 12,
   "id": "81e13bcf-4aed-4a0c-a206-51153e9ba6ce",
   "metadata": {},
   "outputs": [
    {
     "name": "stdout",
     "output_type": "stream",
     "text": [
      "0.00038259999996625993\n",
      "{}\n"
     ]
    }
   ],
   "source": [
    "tweet_ids = df_twitter.tweet_id.values\n",
    "len(tweet_ids)\n",
    "#Getting the JSON data via Twitter API\n",
    "count = 0\n",
    "fails_dict = {}\n",
    "start = timer()\n",
    "# Save each tweet's returned JSON as a new line in a .txt file\n",
    "if not os.path.isfile('tweet_json.txt'):\n",
    "    with open('tweet_json.txt', 'w') as outfile:\n",
    "        # This loop will likely take 20-30 minutes to run because of Twitter's rate limit\n",
    "        for tweet_id in tweet_ids:\n",
    "            count += 1\n",
    "            print(str(count) + \": \" + str(tweet_id))\n",
    "            try:\n",
    "                tweet = api.get_status(tweet_id, wait_on_rate_limit=True, wait_on_rate_limit_notify=True, tweet_mode='extended')\n",
    "                print(\"Success\")\n",
    "                json.dump(tweet._json, outfile)\n",
    "                outfile.write('\\n')\n",
    "            except tweepy.TweepError as e:\n",
    "                print(\"Fail\")\n",
    "                fails_dict[tweet_id] = e\n",
    "                pass\n",
    "end = timer()\n",
    "print(end - start)\n",
    "print(fails_dict)"
   ]
  },
  {
   "cell_type": "code",
   "execution_count": 13,
   "id": "eedfda11-1fa3-48ac-b99f-250ae62e8e23",
   "metadata": {},
   "outputs": [],
   "source": [
    "#reading the Json file\n",
    "data = []\n",
    "with open('tweet-json.txt', 'r', encoding='utf=8') as file:\n",
    "    for line in file:\n",
    "        twitter_data = json.loads(line)\n",
    "        data.append(twitter_data)\n",
    "json_df = pd.DataFrame(data)\n"
   ]
  },
  {
   "cell_type": "code",
   "execution_count": 14,
   "id": "0ba81c1e-730e-4744-8f93-596a6379d27f",
   "metadata": {},
   "outputs": [
    {
     "data": {
      "text/plain": [
       "['created_at',\n",
       " 'id',\n",
       " 'id_str',\n",
       " 'full_text',\n",
       " 'truncated',\n",
       " 'display_text_range',\n",
       " 'entities',\n",
       " 'extended_entities',\n",
       " 'source',\n",
       " 'in_reply_to_status_id',\n",
       " 'in_reply_to_status_id_str',\n",
       " 'in_reply_to_user_id',\n",
       " 'in_reply_to_user_id_str',\n",
       " 'in_reply_to_screen_name',\n",
       " 'user',\n",
       " 'geo',\n",
       " 'coordinates',\n",
       " 'place',\n",
       " 'contributors',\n",
       " 'is_quote_status',\n",
       " 'retweet_count',\n",
       " 'favorite_count',\n",
       " 'favorited',\n",
       " 'retweeted',\n",
       " 'possibly_sensitive',\n",
       " 'possibly_sensitive_appealable',\n",
       " 'lang',\n",
       " 'retweeted_status',\n",
       " 'quoted_status_id',\n",
       " 'quoted_status_id_str',\n",
       " 'quoted_status']"
      ]
     },
     "execution_count": 14,
     "metadata": {},
     "output_type": "execute_result"
    }
   ],
   "source": [
    "list(json_df)"
   ]
  },
  {
   "cell_type": "code",
   "execution_count": 15,
   "id": "1315fdda-77c6-4e5e-a069-55b7c9a42e81",
   "metadata": {},
   "outputs": [],
   "source": [
    "#Extracting tweet ID, retweet count and favorite count columns from the list\n",
    "json_df = json_df [['id', 'retweet_count', 'favorite_count']]"
   ]
  },
  {
   "cell_type": "code",
   "execution_count": 16,
   "id": "0cac3785-89e8-4db1-8659-7fe2d78dfde0",
   "metadata": {},
   "outputs": [
    {
     "data": {
      "text/html": [
       "<div>\n",
       "<style scoped>\n",
       "    .dataframe tbody tr th:only-of-type {\n",
       "        vertical-align: middle;\n",
       "    }\n",
       "\n",
       "    .dataframe tbody tr th {\n",
       "        vertical-align: top;\n",
       "    }\n",
       "\n",
       "    .dataframe thead th {\n",
       "        text-align: right;\n",
       "    }\n",
       "</style>\n",
       "<table border=\"1\" class=\"dataframe\">\n",
       "  <thead>\n",
       "    <tr style=\"text-align: right;\">\n",
       "      <th></th>\n",
       "      <th>id</th>\n",
       "      <th>retweet_count</th>\n",
       "      <th>favorite_count</th>\n",
       "    </tr>\n",
       "  </thead>\n",
       "  <tbody>\n",
       "    <tr>\n",
       "      <th>2156</th>\n",
       "      <td>669573570759163904</td>\n",
       "      <td>156</td>\n",
       "      <td>467</td>\n",
       "    </tr>\n",
       "    <tr>\n",
       "      <th>283</th>\n",
       "      <td>838921590096166913</td>\n",
       "      <td>2357</td>\n",
       "      <td>12183</td>\n",
       "    </tr>\n",
       "    <tr>\n",
       "      <th>1339</th>\n",
       "      <td>704847917308362754</td>\n",
       "      <td>1727</td>\n",
       "      <td>5594</td>\n",
       "    </tr>\n",
       "  </tbody>\n",
       "</table>\n",
       "</div>"
      ],
      "text/plain": [
       "                      id  retweet_count  favorite_count\n",
       "2156  669573570759163904            156             467\n",
       "283   838921590096166913           2357           12183\n",
       "1339  704847917308362754           1727            5594"
      ]
     },
     "execution_count": 16,
     "metadata": {},
     "output_type": "execute_result"
    }
   ],
   "source": [
    "json_df.sample(3)"
   ]
  },
  {
   "cell_type": "code",
   "execution_count": 17,
   "id": "81bd7509-172c-4469-992c-b214add7b1de",
   "metadata": {},
   "outputs": [
    {
     "name": "stdout",
     "output_type": "stream",
     "text": [
      "<class 'pandas.core.frame.DataFrame'>\n",
      "RangeIndex: 2354 entries, 0 to 2353\n",
      "Data columns (total 3 columns):\n",
      " #   Column          Non-Null Count  Dtype\n",
      "---  ------          --------------  -----\n",
      " 0   id              2354 non-null   int64\n",
      " 1   retweet_count   2354 non-null   int64\n",
      " 2   favorite_count  2354 non-null   int64\n",
      "dtypes: int64(3)\n",
      "memory usage: 55.3 KB\n"
     ]
    }
   ],
   "source": [
    "json_df.info()"
   ]
  },
  {
   "cell_type": "markdown",
   "id": "778299c7-f60c-49a5-9e59-0e4ea6562e46",
   "metadata": {
    "tags": []
   },
   "source": [
    "## 2. Assessing Data"
   ]
  },
  {
   "cell_type": "markdown",
   "id": "5d3667a1-fcae-4393-8e75-03764aa8a8e6",
   "metadata": {},
   "source": [
    "> Assessing the data invovles checking for data quality and tidiness manually and programatically. This includes correcting inaacurate data, removing irrelevant data etc.\n",
    "### Data Tidiness\n",
    "> Data Tidiness tries to resolve issues with the data structure that prevents easy analysis. A Tidy data should meet the requirements:\n",
    "* Each variable is a column\n",
    "* Each observation is a row\n",
    "* Each type of observation unit is a table\n",
    "\n",
    ">The twitter data will be cleaned to make sure it meets the tidy data requirment and it is no longer dirty or messy \n",
    "\n",
    "### Data Quality\n",
    "> Data quality dimensions can be used to guide thought when evaluating and cleaning. The four primary dimensions of data quality are:\n",
    "* **Completeness**: This confirms if we have all the records we should have, if there are any missing rows or not. it also checks if there are specific rows, columns or cell with missing values.\n",
    "* **Validity**: This seeks to confirm that the record is valid and conforms to a defined schema\n",
    "* **Accuracy**: This checks that the data does not have a wrong data that is valid even though it adhere to the defined schema\n",
    "* **Consistency**: As the name implies, it confirms that there is consistency in the data accuracy and validity. i.e. data is conforms to the defined schema and is also correct.\n"
   ]
  },
  {
   "cell_type": "markdown",
   "id": "b20ab96e-8d93-485b-9195-d504022cee4a",
   "metadata": {
    "tags": []
   },
   "source": [
    "### 2.1 Reviewing Data Quality and Tidiness"
   ]
  },
  {
   "cell_type": "code",
   "execution_count": 18,
   "id": "234ea1dc-ba2e-4dae-ae85-a17ee3122a7a",
   "metadata": {},
   "outputs": [
    {
     "data": {
      "text/html": [
       "<div>\n",
       "<style scoped>\n",
       "    .dataframe tbody tr th:only-of-type {\n",
       "        vertical-align: middle;\n",
       "    }\n",
       "\n",
       "    .dataframe tbody tr th {\n",
       "        vertical-align: top;\n",
       "    }\n",
       "\n",
       "    .dataframe thead th {\n",
       "        text-align: right;\n",
       "    }\n",
       "</style>\n",
       "<table border=\"1\" class=\"dataframe\">\n",
       "  <thead>\n",
       "    <tr style=\"text-align: right;\">\n",
       "      <th></th>\n",
       "      <th>tweet_id</th>\n",
       "      <th>in_reply_to_status_id</th>\n",
       "      <th>in_reply_to_user_id</th>\n",
       "      <th>timestamp</th>\n",
       "      <th>source</th>\n",
       "      <th>text</th>\n",
       "      <th>retweeted_status_id</th>\n",
       "      <th>retweeted_status_user_id</th>\n",
       "      <th>retweeted_status_timestamp</th>\n",
       "      <th>expanded_urls</th>\n",
       "      <th>rating_numerator</th>\n",
       "      <th>rating_denominator</th>\n",
       "      <th>name</th>\n",
       "      <th>doggo</th>\n",
       "      <th>floofer</th>\n",
       "      <th>pupper</th>\n",
       "      <th>puppo</th>\n",
       "    </tr>\n",
       "  </thead>\n",
       "  <tbody>\n",
       "    <tr>\n",
       "      <th>1253</th>\n",
       "      <td>710833117892898816</td>\n",
       "      <td>NaN</td>\n",
       "      <td>NaN</td>\n",
       "      <td>2016-03-18 14:19:56 +0000</td>\n",
       "      <td>&lt;a href=\"http://twitter.com/download/iphone\" r...</td>\n",
       "      <td>Say hello to Sora. She's an Egyptian Pumpernic...</td>\n",
       "      <td>NaN</td>\n",
       "      <td>NaN</td>\n",
       "      <td>NaN</td>\n",
       "      <td>https://twitter.com/dog_rates/status/710833117...</td>\n",
       "      <td>12</td>\n",
       "      <td>10</td>\n",
       "      <td>Sora</td>\n",
       "      <td>None</td>\n",
       "      <td>None</td>\n",
       "      <td>None</td>\n",
       "      <td>None</td>\n",
       "    </tr>\n",
       "    <tr>\n",
       "      <th>1230</th>\n",
       "      <td>713411074226274305</td>\n",
       "      <td>NaN</td>\n",
       "      <td>NaN</td>\n",
       "      <td>2016-03-25 17:03:49 +0000</td>\n",
       "      <td>&lt;a href=\"http://twitter.com/download/iphone\" r...</td>\n",
       "      <td>Here we see an extremely rare Bearded Floofmal...</td>\n",
       "      <td>NaN</td>\n",
       "      <td>NaN</td>\n",
       "      <td>NaN</td>\n",
       "      <td>https://twitter.com/dog_rates/status/713411074...</td>\n",
       "      <td>11</td>\n",
       "      <td>10</td>\n",
       "      <td>None</td>\n",
       "      <td>None</td>\n",
       "      <td>None</td>\n",
       "      <td>None</td>\n",
       "      <td>None</td>\n",
       "    </tr>\n",
       "    <tr>\n",
       "      <th>2340</th>\n",
       "      <td>666099513787052032</td>\n",
       "      <td>NaN</td>\n",
       "      <td>NaN</td>\n",
       "      <td>2015-11-16 03:44:34 +0000</td>\n",
       "      <td>&lt;a href=\"http://twitter.com/download/iphone\" r...</td>\n",
       "      <td>Can stand on stump for what seems like a while...</td>\n",
       "      <td>NaN</td>\n",
       "      <td>NaN</td>\n",
       "      <td>NaN</td>\n",
       "      <td>https://twitter.com/dog_rates/status/666099513...</td>\n",
       "      <td>8</td>\n",
       "      <td>10</td>\n",
       "      <td>None</td>\n",
       "      <td>None</td>\n",
       "      <td>None</td>\n",
       "      <td>None</td>\n",
       "      <td>None</td>\n",
       "    </tr>\n",
       "    <tr>\n",
       "      <th>1606</th>\n",
       "      <td>685667379192414208</td>\n",
       "      <td>NaN</td>\n",
       "      <td>NaN</td>\n",
       "      <td>2016-01-09 03:40:16 +0000</td>\n",
       "      <td>&lt;a href=\"http://twitter.com/download/iphone\" r...</td>\n",
       "      <td>This is Marty. He has no idea what happened he...</td>\n",
       "      <td>NaN</td>\n",
       "      <td>NaN</td>\n",
       "      <td>NaN</td>\n",
       "      <td>https://twitter.com/dog_rates/status/685667379...</td>\n",
       "      <td>9</td>\n",
       "      <td>10</td>\n",
       "      <td>Marty</td>\n",
       "      <td>None</td>\n",
       "      <td>None</td>\n",
       "      <td>pupper</td>\n",
       "      <td>None</td>\n",
       "    </tr>\n",
       "    <tr>\n",
       "      <th>434</th>\n",
       "      <td>820494788566847489</td>\n",
       "      <td>NaN</td>\n",
       "      <td>NaN</td>\n",
       "      <td>2017-01-15 04:56:16 +0000</td>\n",
       "      <td>&lt;a href=\"http://twitter.com/download/iphone\" r...</td>\n",
       "      <td>RT @dog_rates: We are proud to support @LoveYo...</td>\n",
       "      <td>8.203146e+17</td>\n",
       "      <td>4.196984e+09</td>\n",
       "      <td>2017-01-14 17:00:24 +0000</td>\n",
       "      <td>https://www.loveyourmelon.com/pages/ourstory,h...</td>\n",
       "      <td>14</td>\n",
       "      <td>10</td>\n",
       "      <td>None</td>\n",
       "      <td>None</td>\n",
       "      <td>None</td>\n",
       "      <td>None</td>\n",
       "      <td>None</td>\n",
       "    </tr>\n",
       "  </tbody>\n",
       "</table>\n",
       "</div>"
      ],
      "text/plain": [
       "                tweet_id  in_reply_to_status_id  in_reply_to_user_id  \\\n",
       "1253  710833117892898816                    NaN                  NaN   \n",
       "1230  713411074226274305                    NaN                  NaN   \n",
       "2340  666099513787052032                    NaN                  NaN   \n",
       "1606  685667379192414208                    NaN                  NaN   \n",
       "434   820494788566847489                    NaN                  NaN   \n",
       "\n",
       "                      timestamp  \\\n",
       "1253  2016-03-18 14:19:56 +0000   \n",
       "1230  2016-03-25 17:03:49 +0000   \n",
       "2340  2015-11-16 03:44:34 +0000   \n",
       "1606  2016-01-09 03:40:16 +0000   \n",
       "434   2017-01-15 04:56:16 +0000   \n",
       "\n",
       "                                                 source  \\\n",
       "1253  <a href=\"http://twitter.com/download/iphone\" r...   \n",
       "1230  <a href=\"http://twitter.com/download/iphone\" r...   \n",
       "2340  <a href=\"http://twitter.com/download/iphone\" r...   \n",
       "1606  <a href=\"http://twitter.com/download/iphone\" r...   \n",
       "434   <a href=\"http://twitter.com/download/iphone\" r...   \n",
       "\n",
       "                                                   text  retweeted_status_id  \\\n",
       "1253  Say hello to Sora. She's an Egyptian Pumpernic...                  NaN   \n",
       "1230  Here we see an extremely rare Bearded Floofmal...                  NaN   \n",
       "2340  Can stand on stump for what seems like a while...                  NaN   \n",
       "1606  This is Marty. He has no idea what happened he...                  NaN   \n",
       "434   RT @dog_rates: We are proud to support @LoveYo...         8.203146e+17   \n",
       "\n",
       "      retweeted_status_user_id retweeted_status_timestamp  \\\n",
       "1253                       NaN                        NaN   \n",
       "1230                       NaN                        NaN   \n",
       "2340                       NaN                        NaN   \n",
       "1606                       NaN                        NaN   \n",
       "434               4.196984e+09  2017-01-14 17:00:24 +0000   \n",
       "\n",
       "                                          expanded_urls  rating_numerator  \\\n",
       "1253  https://twitter.com/dog_rates/status/710833117...                12   \n",
       "1230  https://twitter.com/dog_rates/status/713411074...                11   \n",
       "2340  https://twitter.com/dog_rates/status/666099513...                 8   \n",
       "1606  https://twitter.com/dog_rates/status/685667379...                 9   \n",
       "434   https://www.loveyourmelon.com/pages/ourstory,h...                14   \n",
       "\n",
       "      rating_denominator   name doggo floofer  pupper puppo  \n",
       "1253                  10   Sora  None    None    None  None  \n",
       "1230                  10   None  None    None    None  None  \n",
       "2340                  10   None  None    None    None  None  \n",
       "1606                  10  Marty  None    None  pupper  None  \n",
       "434                   10   None  None    None    None  None  "
      ]
     },
     "execution_count": 18,
     "metadata": {},
     "output_type": "execute_result"
    }
   ],
   "source": [
    "df_twitter.sample(5)"
   ]
  },
  {
   "cell_type": "code",
   "execution_count": 19,
   "id": "7ede5534-5d19-46dd-9ba5-6fe5f1b81b5f",
   "metadata": {},
   "outputs": [
    {
     "name": "stdout",
     "output_type": "stream",
     "text": [
      "<class 'pandas.core.frame.DataFrame'>\n",
      "RangeIndex: 2356 entries, 0 to 2355\n",
      "Data columns (total 17 columns):\n",
      " #   Column                      Non-Null Count  Dtype  \n",
      "---  ------                      --------------  -----  \n",
      " 0   tweet_id                    2356 non-null   int64  \n",
      " 1   in_reply_to_status_id       78 non-null     float64\n",
      " 2   in_reply_to_user_id         78 non-null     float64\n",
      " 3   timestamp                   2356 non-null   object \n",
      " 4   source                      2356 non-null   object \n",
      " 5   text                        2356 non-null   object \n",
      " 6   retweeted_status_id         181 non-null    float64\n",
      " 7   retweeted_status_user_id    181 non-null    float64\n",
      " 8   retweeted_status_timestamp  181 non-null    object \n",
      " 9   expanded_urls               2297 non-null   object \n",
      " 10  rating_numerator            2356 non-null   int64  \n",
      " 11  rating_denominator          2356 non-null   int64  \n",
      " 12  name                        2356 non-null   object \n",
      " 13  doggo                       2356 non-null   object \n",
      " 14  floofer                     2356 non-null   object \n",
      " 15  pupper                      2356 non-null   object \n",
      " 16  puppo                       2356 non-null   object \n",
      "dtypes: float64(4), int64(3), object(10)\n",
      "memory usage: 313.0+ KB\n"
     ]
    }
   ],
   "source": [
    "#Assessing the df_twitter data\n",
    "df_twitter.info()"
   ]
  },
  {
   "cell_type": "code",
   "execution_count": 20,
   "id": "e657f7bb-889d-4381-9baf-9bb0ec656dd8",
   "metadata": {},
   "outputs": [
    {
     "data": {
      "text/plain": [
       "0"
      ]
     },
     "execution_count": 20,
     "metadata": {},
     "output_type": "execute_result"
    }
   ],
   "source": [
    "# checking for duplicate values\n",
    "sum(df_twitter.duplicated())"
   ]
  },
  {
   "cell_type": "code",
   "execution_count": 21,
   "id": "65204a1b-f930-4c54-bbfe-f73c6f8ec40c",
   "metadata": {},
   "outputs": [
    {
     "data": {
      "text/plain": [
       "tweet_id                         0\n",
       "in_reply_to_status_id         2278\n",
       "in_reply_to_user_id           2278\n",
       "timestamp                        0\n",
       "source                           0\n",
       "text                             0\n",
       "retweeted_status_id           2175\n",
       "retweeted_status_user_id      2175\n",
       "retweeted_status_timestamp    2175\n",
       "expanded_urls                   59\n",
       "rating_numerator                 0\n",
       "rating_denominator               0\n",
       "name                             0\n",
       "doggo                            0\n",
       "floofer                          0\n",
       "pupper                           0\n",
       "puppo                            0\n",
       "dtype: int64"
      ]
     },
     "execution_count": 21,
     "metadata": {},
     "output_type": "execute_result"
    }
   ],
   "source": [
    "# checking for null values in \n",
    "df_twitter.isnull().sum()"
   ]
  },
  {
   "cell_type": "code",
   "execution_count": 22,
   "id": "aeaf4980-7e0b-4fa1-81af-6a14c050cf40",
   "metadata": {},
   "outputs": [
    {
     "data": {
      "text/plain": [
       "['Abby',\n",
       " 'Ace',\n",
       " 'Acro',\n",
       " 'Adele',\n",
       " 'Aiden',\n",
       " 'Aja',\n",
       " 'Akumi',\n",
       " 'Al',\n",
       " 'Albert',\n",
       " 'Albus',\n",
       " 'Aldrick',\n",
       " 'Alejandro',\n",
       " 'Alexander',\n",
       " 'Alexanderson',\n",
       " 'Alf',\n",
       " 'Alfie',\n",
       " 'Alfy',\n",
       " 'Alice',\n",
       " 'Amber',\n",
       " 'Ambrose',\n",
       " 'Amy',\n",
       " 'Amélie',\n",
       " 'Anakin',\n",
       " 'Andru',\n",
       " 'Andy',\n",
       " 'Angel',\n",
       " 'Anna',\n",
       " 'Anthony',\n",
       " 'Antony',\n",
       " 'Apollo',\n",
       " 'Aqua',\n",
       " 'Archie',\n",
       " 'Arlen',\n",
       " 'Arlo',\n",
       " 'Arnie',\n",
       " 'Arnold',\n",
       " 'Arya',\n",
       " 'Ash',\n",
       " 'Asher',\n",
       " 'Ashleigh',\n",
       " 'Aspen',\n",
       " 'Astrid',\n",
       " 'Atlas',\n",
       " 'Atticus',\n",
       " 'Aubie',\n",
       " 'Augie',\n",
       " 'Autumn',\n",
       " 'Ava',\n",
       " 'Axel',\n",
       " 'Bailey',\n",
       " 'Baloo',\n",
       " 'Balto',\n",
       " 'Banditt',\n",
       " 'Banjo',\n",
       " 'Barclay',\n",
       " 'Barney',\n",
       " 'Baron',\n",
       " 'Barry',\n",
       " 'Batdog',\n",
       " 'Bauer',\n",
       " 'Baxter',\n",
       " 'Bayley',\n",
       " 'BeBe',\n",
       " 'Bear',\n",
       " 'Beau',\n",
       " 'Beckham',\n",
       " 'Beebop',\n",
       " 'Beemo',\n",
       " 'Bell',\n",
       " 'Bella',\n",
       " 'Belle',\n",
       " 'Ben',\n",
       " 'Benedict',\n",
       " 'Benji',\n",
       " 'Benny',\n",
       " 'Bentley',\n",
       " 'Berb',\n",
       " 'Berkeley',\n",
       " 'Bernie',\n",
       " 'Bert',\n",
       " 'Bertson',\n",
       " 'Betty',\n",
       " 'Beya',\n",
       " 'Biden',\n",
       " 'Bilbo',\n",
       " 'Billl',\n",
       " 'Billy',\n",
       " 'Binky',\n",
       " 'Birf',\n",
       " 'Bisquick',\n",
       " 'Blakely',\n",
       " 'Blanket',\n",
       " 'Blipson',\n",
       " 'Blitz',\n",
       " 'Bloo',\n",
       " 'Bloop',\n",
       " 'Blu',\n",
       " 'Blue',\n",
       " 'Bluebert',\n",
       " 'Bo',\n",
       " 'Bob',\n",
       " 'Bobb',\n",
       " 'Bobbay',\n",
       " 'Bobble',\n",
       " 'Bobby',\n",
       " 'Bode',\n",
       " 'Bodie',\n",
       " 'Bonaparte',\n",
       " 'Bones',\n",
       " 'Bookstore',\n",
       " 'Boomer',\n",
       " 'Boots',\n",
       " 'Boston',\n",
       " 'Bowie',\n",
       " 'Brad',\n",
       " 'Bradlay',\n",
       " 'Bradley',\n",
       " 'Brady',\n",
       " 'Brandi',\n",
       " 'Brandonald',\n",
       " 'Brandy',\n",
       " 'Brat',\n",
       " 'Brian',\n",
       " 'Brockly',\n",
       " 'Brody',\n",
       " 'Bronte',\n",
       " 'Brooks',\n",
       " 'Brownie',\n",
       " 'Bruce',\n",
       " 'Brudge',\n",
       " 'Bruiser',\n",
       " 'Bruno',\n",
       " 'Brutus',\n",
       " 'Bubba',\n",
       " 'Bubbles',\n",
       " 'Buckley',\n",
       " 'Buddah',\n",
       " 'Buddy',\n",
       " 'Bungalo',\n",
       " 'Burt',\n",
       " 'Butter',\n",
       " 'Butters',\n",
       " 'Cal',\n",
       " 'Calbert',\n",
       " 'Cali',\n",
       " 'Callie',\n",
       " 'Calvin',\n",
       " 'Canela',\n",
       " 'Cannon',\n",
       " 'Carbon',\n",
       " 'Carl',\n",
       " 'Carll',\n",
       " 'Carly',\n",
       " 'Carper',\n",
       " 'Carter',\n",
       " 'Caryl',\n",
       " 'Cash',\n",
       " 'Cassie',\n",
       " 'CeCe',\n",
       " 'Cecil',\n",
       " 'Cedrick',\n",
       " 'Cermet',\n",
       " 'Chadrick',\n",
       " 'Champ',\n",
       " 'Charl',\n",
       " 'Charles',\n",
       " 'Charleson',\n",
       " 'Charlie',\n",
       " 'Chase',\n",
       " 'Chaz',\n",
       " 'Cheesy',\n",
       " 'Chef',\n",
       " 'Chelsea',\n",
       " 'Cheryl',\n",
       " 'Chesney',\n",
       " 'Chester',\n",
       " 'Chesterson',\n",
       " 'Chet',\n",
       " 'Chevy',\n",
       " 'Chip',\n",
       " 'Chipson',\n",
       " 'Chloe',\n",
       " 'Chompsky',\n",
       " 'Christoper',\n",
       " 'Chubbs',\n",
       " 'Chuck',\n",
       " 'Chuckles',\n",
       " 'Chuq',\n",
       " 'Churlie',\n",
       " 'Cilantro',\n",
       " 'Clarence',\n",
       " 'Clark',\n",
       " 'Clarkus',\n",
       " 'Clarq',\n",
       " 'Claude',\n",
       " 'Cleopatricia',\n",
       " 'Clifford',\n",
       " 'Clybe',\n",
       " 'Clyde',\n",
       " 'Coco',\n",
       " 'Cody',\n",
       " 'Colby',\n",
       " 'Coleman',\n",
       " 'Colin',\n",
       " 'Combo',\n",
       " 'Comet',\n",
       " 'Cooper',\n",
       " 'Coops',\n",
       " 'Coopson',\n",
       " 'Cora',\n",
       " 'Corey',\n",
       " 'Covach',\n",
       " 'Craig',\n",
       " 'Crawford',\n",
       " 'Creg',\n",
       " 'Crimson',\n",
       " 'Crouton',\n",
       " 'Crumpet',\n",
       " 'Crystal',\n",
       " 'Cuddles',\n",
       " 'Cupcake',\n",
       " 'Cupid',\n",
       " 'Curtis',\n",
       " 'Daisy',\n",
       " 'Dakota',\n",
       " 'Dale',\n",
       " 'Dallas',\n",
       " 'Damon',\n",
       " 'Daniel',\n",
       " 'Danny',\n",
       " 'Dante',\n",
       " 'Darby',\n",
       " 'Darla',\n",
       " 'Darrel',\n",
       " 'Dash',\n",
       " 'Dave',\n",
       " 'Davey',\n",
       " 'Dawn',\n",
       " 'DayZ',\n",
       " 'Deacon',\n",
       " 'Derby',\n",
       " 'Derek',\n",
       " 'Devón',\n",
       " 'Dewey',\n",
       " 'Dex',\n",
       " 'Dexter',\n",
       " 'Dido',\n",
       " 'Dietrich',\n",
       " 'Diogi',\n",
       " 'Divine',\n",
       " 'Dixie',\n",
       " 'Django',\n",
       " 'Dobby',\n",
       " 'Doc',\n",
       " 'DonDon',\n",
       " 'Donny',\n",
       " 'Doobert',\n",
       " 'Dook',\n",
       " 'Dot',\n",
       " 'Dotsy',\n",
       " 'Doug',\n",
       " 'Duchess',\n",
       " 'Duddles',\n",
       " 'Dudley',\n",
       " 'Dug',\n",
       " 'Duke',\n",
       " 'Dunkin',\n",
       " 'Durg',\n",
       " 'Dutch',\n",
       " 'Dwight',\n",
       " 'Dylan',\n",
       " 'Earl',\n",
       " 'Eazy',\n",
       " 'Ebby',\n",
       " 'Ed',\n",
       " 'Edd',\n",
       " 'Edgar',\n",
       " 'Edmund',\n",
       " 'Eevee',\n",
       " 'Einstein',\n",
       " 'Eleanor',\n",
       " 'Eli',\n",
       " 'Ellie',\n",
       " 'Elliot',\n",
       " 'Emanuel',\n",
       " 'Ember',\n",
       " 'Emma',\n",
       " 'Emmie',\n",
       " 'Emmy',\n",
       " 'Enchilada',\n",
       " 'Erik',\n",
       " 'Eriq',\n",
       " 'Ester',\n",
       " 'Eugene',\n",
       " 'Eve',\n",
       " 'Evy',\n",
       " 'Fabio',\n",
       " 'Farfle',\n",
       " 'Ferg',\n",
       " 'Fido',\n",
       " 'Fiji',\n",
       " 'Fillup',\n",
       " 'Filup',\n",
       " 'Finley',\n",
       " 'Finn',\n",
       " 'Finnegus',\n",
       " 'Fiona',\n",
       " 'Fizz',\n",
       " 'Flash',\n",
       " 'Fletcher',\n",
       " 'Florence',\n",
       " 'Flurpson',\n",
       " 'Flávio',\n",
       " 'Frank',\n",
       " 'Frankie',\n",
       " 'Franklin',\n",
       " 'Franq',\n",
       " 'Fred',\n",
       " 'Freddery',\n",
       " 'Frönq',\n",
       " 'Furzey',\n",
       " 'Fwed',\n",
       " 'Fynn',\n",
       " 'Gabby',\n",
       " 'Gabe',\n",
       " 'Gary',\n",
       " 'General',\n",
       " 'Genevieve',\n",
       " 'Geno',\n",
       " 'Geoff',\n",
       " 'George',\n",
       " 'Georgie',\n",
       " 'Gerald',\n",
       " 'Gerbald',\n",
       " 'Gert',\n",
       " 'Gidget',\n",
       " 'Gilbert',\n",
       " 'Gin',\n",
       " 'Ginger',\n",
       " 'Gizmo',\n",
       " 'Glacier',\n",
       " 'Glenn',\n",
       " 'Godi',\n",
       " 'Godzilla',\n",
       " 'Goliath',\n",
       " 'Goose',\n",
       " 'Gordon',\n",
       " 'Grady',\n",
       " 'Grey',\n",
       " 'Griffin',\n",
       " 'Griswold',\n",
       " 'Grizz',\n",
       " 'Grizzie',\n",
       " 'Grizzwald',\n",
       " 'Gromit',\n",
       " 'Gunner',\n",
       " 'Gus',\n",
       " 'Gustaf',\n",
       " 'Gustav',\n",
       " 'Gòrdón',\n",
       " 'Hall',\n",
       " 'Halo',\n",
       " 'Hammond',\n",
       " 'Hamrick',\n",
       " 'Hank',\n",
       " 'Hanz',\n",
       " 'Happy',\n",
       " 'Harlso',\n",
       " 'Harnold',\n",
       " 'Harold',\n",
       " 'Harper',\n",
       " 'Harrison',\n",
       " 'Harry',\n",
       " 'Harvey',\n",
       " 'Hazel',\n",
       " 'Hector',\n",
       " 'Heinrich',\n",
       " 'Henry',\n",
       " 'Herald',\n",
       " 'Herb',\n",
       " 'Hercules',\n",
       " 'Herm',\n",
       " 'Hermione',\n",
       " 'Hero',\n",
       " 'Herschel',\n",
       " 'Hobbes',\n",
       " 'Holly',\n",
       " 'Horace',\n",
       " 'Howie',\n",
       " 'Hubertson',\n",
       " 'Huck',\n",
       " 'Humphrey',\n",
       " 'Hunter',\n",
       " 'Hurley',\n",
       " 'Huxley',\n",
       " 'Iggy',\n",
       " 'Ike',\n",
       " 'Indie',\n",
       " 'Iroh',\n",
       " 'Ito',\n",
       " 'Ivar',\n",
       " 'Izzy',\n",
       " 'JD',\n",
       " 'Jack',\n",
       " 'Jackie',\n",
       " 'Jackson',\n",
       " 'Jameson',\n",
       " 'Jamesy',\n",
       " 'Jangle',\n",
       " 'Jareld',\n",
       " 'Jarod',\n",
       " 'Jarvis',\n",
       " 'Jaspers',\n",
       " 'Jax',\n",
       " 'Jay',\n",
       " 'Jaycob',\n",
       " 'Jazz',\n",
       " 'Jazzy',\n",
       " 'Jeb',\n",
       " 'Jebberson',\n",
       " 'Jed',\n",
       " 'Jeffrey',\n",
       " 'Jeffri',\n",
       " 'Jeffrie',\n",
       " 'Jennifur',\n",
       " 'Jeph',\n",
       " 'Jeremy',\n",
       " 'Jerome',\n",
       " 'Jerry',\n",
       " 'Jersey',\n",
       " 'Jesse',\n",
       " 'Jessifer',\n",
       " 'Jessiga',\n",
       " 'Jett',\n",
       " 'Jim',\n",
       " 'Jimbo',\n",
       " 'Jiminus',\n",
       " 'Jiminy',\n",
       " 'Jimison',\n",
       " 'Jimothy',\n",
       " 'Jo',\n",
       " 'Jockson',\n",
       " 'Joey',\n",
       " 'Jomathan',\n",
       " 'Jonah',\n",
       " 'Jordy',\n",
       " 'Josep',\n",
       " 'Joshwa',\n",
       " 'Juckson',\n",
       " 'Julio',\n",
       " 'Julius',\n",
       " 'Juno',\n",
       " 'Kaia',\n",
       " 'Kaiya',\n",
       " 'Kallie',\n",
       " 'Kane',\n",
       " 'Kanu',\n",
       " 'Kara',\n",
       " 'Karl',\n",
       " 'Karll',\n",
       " 'Karma',\n",
       " 'Kathmandu',\n",
       " 'Katie',\n",
       " 'Kawhi',\n",
       " 'Kayla',\n",
       " 'Keet',\n",
       " 'Keith',\n",
       " 'Kellogg',\n",
       " 'Ken',\n",
       " 'Kendall',\n",
       " 'Kenneth',\n",
       " 'Kenny',\n",
       " 'Kenzie',\n",
       " 'Keurig',\n",
       " 'Kevin',\n",
       " 'Kevon',\n",
       " 'Kial',\n",
       " 'Kilo',\n",
       " 'Kingsley',\n",
       " 'Kirby',\n",
       " 'Kirk',\n",
       " 'Klein',\n",
       " 'Klevin',\n",
       " 'Kloey',\n",
       " 'Kobe',\n",
       " 'Koda',\n",
       " 'Kody',\n",
       " 'Koko',\n",
       " 'Kollin',\n",
       " 'Kona',\n",
       " 'Kota',\n",
       " 'Kramer',\n",
       " 'Kreg',\n",
       " 'Kreggory',\n",
       " 'Kulet',\n",
       " 'Kuyu',\n",
       " 'Kyle',\n",
       " 'Kyro',\n",
       " 'Lacy',\n",
       " 'Laela',\n",
       " 'Laika',\n",
       " 'Lambeau',\n",
       " 'Lance',\n",
       " 'Larry',\n",
       " 'Lassie',\n",
       " 'Layla',\n",
       " 'Leela',\n",
       " 'Lennon',\n",
       " 'Lenny',\n",
       " 'Lenox',\n",
       " 'Leo',\n",
       " 'Leonard',\n",
       " 'Leonidas',\n",
       " 'Levi',\n",
       " 'Liam',\n",
       " 'Lilah',\n",
       " 'Lili',\n",
       " 'Lilli',\n",
       " 'Lillie',\n",
       " 'Lilly',\n",
       " 'Lily',\n",
       " 'Lincoln',\n",
       " 'Linda',\n",
       " 'Link',\n",
       " 'Linus',\n",
       " 'Lipton',\n",
       " 'Livvie',\n",
       " 'Lizzie',\n",
       " 'Logan',\n",
       " 'Loki',\n",
       " 'Lola',\n",
       " 'Lolo',\n",
       " 'Longfellow',\n",
       " 'Loomis',\n",
       " 'Lorelei',\n",
       " 'Lorenzo',\n",
       " 'Lou',\n",
       " 'Louie',\n",
       " 'Louis',\n",
       " 'Luca',\n",
       " 'Lucia',\n",
       " 'Lucky',\n",
       " 'Lucy',\n",
       " 'Lugan',\n",
       " 'Lulu',\n",
       " 'Luna',\n",
       " 'Lupe',\n",
       " 'Luther',\n",
       " 'Mabel',\n",
       " 'Mac',\n",
       " 'Mack',\n",
       " 'Maddie',\n",
       " 'Maggie',\n",
       " 'Mairi',\n",
       " 'Maisey',\n",
       " 'Major',\n",
       " 'Maks',\n",
       " 'Malcolm',\n",
       " 'Malikai',\n",
       " 'Margo',\n",
       " 'Mark',\n",
       " 'Marlee',\n",
       " 'Marley',\n",
       " 'Marq',\n",
       " 'Marty',\n",
       " 'Marvin',\n",
       " 'Mary',\n",
       " 'Mason',\n",
       " 'Mattie',\n",
       " 'Maude',\n",
       " 'Mauve',\n",
       " 'Max',\n",
       " 'Maxaroni',\n",
       " 'Maximus',\n",
       " 'Maxwell',\n",
       " 'Maya',\n",
       " 'Meatball',\n",
       " 'Meera',\n",
       " 'Meyer',\n",
       " 'Mia',\n",
       " 'Michelangelope',\n",
       " 'Miguel',\n",
       " 'Mike',\n",
       " 'Miley',\n",
       " 'Milky',\n",
       " 'Millie',\n",
       " 'Milo',\n",
       " 'Mimosa',\n",
       " 'Mingus',\n",
       " 'Mister',\n",
       " 'Misty',\n",
       " 'Mitch',\n",
       " 'Mo',\n",
       " 'Moe',\n",
       " 'Mojo',\n",
       " 'Mollie',\n",
       " 'Molly',\n",
       " 'Mona',\n",
       " 'Monkey',\n",
       " 'Monster',\n",
       " 'Monty',\n",
       " 'Moofasa',\n",
       " 'Mookie',\n",
       " 'Moose',\n",
       " 'Moreton',\n",
       " 'Mosby',\n",
       " 'Murphy',\n",
       " 'Mutt',\n",
       " 'Mya',\n",
       " 'Nala',\n",
       " 'Naphaniel',\n",
       " 'Napolean',\n",
       " 'Nelly',\n",
       " 'Neptune',\n",
       " 'Newt',\n",
       " 'Nico',\n",
       " 'Nida',\n",
       " 'Nigel',\n",
       " 'Nimbus',\n",
       " 'Noah',\n",
       " 'Nollie',\n",
       " 'None',\n",
       " 'Noosh',\n",
       " 'Norman',\n",
       " 'Nugget',\n",
       " 'O',\n",
       " 'Oakley',\n",
       " 'Obi',\n",
       " 'Obie',\n",
       " 'Oddie',\n",
       " 'Odie',\n",
       " 'Odin',\n",
       " 'Olaf',\n",
       " 'Ole',\n",
       " 'Olive',\n",
       " 'Oliver',\n",
       " 'Olivia',\n",
       " 'Oliviér',\n",
       " 'Ollie',\n",
       " 'Opal',\n",
       " 'Opie',\n",
       " 'Oreo',\n",
       " 'Orion',\n",
       " 'Oscar',\n",
       " 'Oshie',\n",
       " 'Otis',\n",
       " 'Ozzie',\n",
       " 'Ozzy',\n",
       " 'Pablo',\n",
       " 'Paisley',\n",
       " 'Pancake',\n",
       " 'Panda',\n",
       " 'Patch',\n",
       " 'Patrick',\n",
       " 'Paull',\n",
       " 'Pavlov',\n",
       " 'Pawnd',\n",
       " 'Peaches',\n",
       " 'Peanut',\n",
       " 'Penelope',\n",
       " 'Penny',\n",
       " 'Pepper',\n",
       " 'Percy',\n",
       " 'Perry',\n",
       " 'Pete',\n",
       " 'Petrick',\n",
       " 'Pherb',\n",
       " 'Phil',\n",
       " 'Philbert',\n",
       " 'Philippe',\n",
       " 'Phineas',\n",
       " 'Phred',\n",
       " 'Pickles',\n",
       " 'Pilot',\n",
       " 'Pinot',\n",
       " 'Pip',\n",
       " 'Piper',\n",
       " 'Pippa',\n",
       " 'Pippin',\n",
       " 'Pipsy',\n",
       " 'Pluto',\n",
       " 'Poppy',\n",
       " 'Pubert',\n",
       " 'Puff',\n",
       " 'Pumpkin',\n",
       " 'Pupcasso',\n",
       " 'Quinn',\n",
       " 'Ralf',\n",
       " 'Ralph',\n",
       " 'Ralpher',\n",
       " 'Ralphie',\n",
       " 'Ralphson',\n",
       " 'Ralphus',\n",
       " 'Ralphy',\n",
       " 'Ralphé',\n",
       " 'Rambo',\n",
       " 'Randall',\n",
       " 'Raphael',\n",
       " 'Rascal',\n",
       " 'Raymond',\n",
       " 'Reagan',\n",
       " 'Reese',\n",
       " 'Reggie',\n",
       " 'Reginald',\n",
       " 'Remington',\n",
       " 'Remus',\n",
       " 'Remy',\n",
       " 'Reptar',\n",
       " 'Rey',\n",
       " 'Rhino',\n",
       " 'Richie',\n",
       " 'Ricky',\n",
       " 'Ridley',\n",
       " 'Riley',\n",
       " 'Rilo',\n",
       " 'Rinna',\n",
       " 'River',\n",
       " 'Rizzo',\n",
       " 'Rizzy',\n",
       " 'Robin',\n",
       " 'Rocco',\n",
       " 'Rocky',\n",
       " 'Rodman',\n",
       " 'Rodney',\n",
       " 'Rolf',\n",
       " 'Romeo',\n",
       " 'Ron',\n",
       " 'Ronduh',\n",
       " 'Ronnie',\n",
       " 'Rontu',\n",
       " 'Rooney',\n",
       " 'Roosevelt',\n",
       " 'Rorie',\n",
       " 'Rory',\n",
       " 'Roscoe',\n",
       " 'Rose',\n",
       " 'Rosie',\n",
       " 'Rover',\n",
       " 'Rubio',\n",
       " 'Ruby',\n",
       " 'Rudy',\n",
       " 'Rueben',\n",
       " 'Ruffles',\n",
       " 'Rufio',\n",
       " 'Rufus',\n",
       " 'Rumble',\n",
       " 'Rumpole',\n",
       " 'Rupert',\n",
       " 'Rusty',\n",
       " 'Sadie',\n",
       " 'Sage',\n",
       " 'Sailer',\n",
       " 'Sailor',\n",
       " 'Sam',\n",
       " 'Sammy',\n",
       " 'Sampson',\n",
       " 'Samsom',\n",
       " 'Samson',\n",
       " 'Sandra',\n",
       " 'Sandy',\n",
       " 'Sansa',\n",
       " 'Sarge',\n",
       " 'Saydee',\n",
       " 'Schnitzel',\n",
       " 'Schnozz',\n",
       " 'Scooter',\n",
       " 'Scott',\n",
       " 'Scout',\n",
       " 'Scruffers',\n",
       " 'Seamus',\n",
       " 'Sebastian',\n",
       " 'Sephie',\n",
       " 'Severus',\n",
       " 'Shadoe',\n",
       " 'Shadow',\n",
       " 'Shaggy',\n",
       " 'Shakespeare',\n",
       " 'Shawwn',\n",
       " 'Shelby',\n",
       " 'Shikha',\n",
       " 'Shiloh',\n",
       " 'Shnuggles',\n",
       " 'Shooter',\n",
       " 'Siba',\n",
       " 'Sid',\n",
       " 'Sierra',\n",
       " 'Simba',\n",
       " 'Skittle',\n",
       " 'Skittles',\n",
       " 'Sky',\n",
       " 'Skye',\n",
       " 'Smiley',\n",
       " 'Smokey',\n",
       " 'Snickers',\n",
       " 'Snicku',\n",
       " 'Snoop',\n",
       " 'Snoopy',\n",
       " 'Sobe',\n",
       " 'Socks',\n",
       " 'Sojourner',\n",
       " 'Solomon',\n",
       " 'Sonny',\n",
       " 'Sophie',\n",
       " 'Sora',\n",
       " 'Spanky',\n",
       " 'Spark',\n",
       " 'Sparky',\n",
       " 'Spencer',\n",
       " 'Sprinkles',\n",
       " 'Sprout',\n",
       " 'Staniel',\n",
       " 'Stanley',\n",
       " 'Stark',\n",
       " 'Stefan',\n",
       " 'Stella',\n",
       " 'Stephan',\n",
       " 'Stephanus',\n",
       " 'Steve',\n",
       " 'Steven',\n",
       " 'Stewie',\n",
       " 'Storkson',\n",
       " 'Stormy',\n",
       " 'Strider',\n",
       " 'Striker',\n",
       " 'Strudel',\n",
       " 'Stu',\n",
       " 'Stuart',\n",
       " 'Stubert',\n",
       " 'Sugar',\n",
       " 'Suki',\n",
       " 'Sully',\n",
       " 'Sundance',\n",
       " 'Sunny',\n",
       " 'Sunshine',\n",
       " 'Superpup',\n",
       " 'Swagger',\n",
       " 'Sweet',\n",
       " 'Sweets',\n",
       " 'Taco',\n",
       " 'Tango',\n",
       " 'Tanner',\n",
       " 'Tassy',\n",
       " 'Tater',\n",
       " 'Tayzie',\n",
       " 'Taz',\n",
       " 'Tebow',\n",
       " 'Ted',\n",
       " 'Tedders',\n",
       " 'Teddy',\n",
       " 'Tedrick',\n",
       " 'Terrance',\n",
       " 'Terrenth',\n",
       " 'Terry',\n",
       " 'Tess',\n",
       " 'Tessa',\n",
       " 'Theo',\n",
       " 'Theodore',\n",
       " 'Thor',\n",
       " 'Thumas',\n",
       " 'Tiger',\n",
       " 'Tilly',\n",
       " 'Timber',\n",
       " 'Timison',\n",
       " 'Timmy',\n",
       " 'Timofy',\n",
       " 'Tino',\n",
       " 'Titan',\n",
       " 'Tito',\n",
       " 'Tobi',\n",
       " 'Toby',\n",
       " 'Todo',\n",
       " 'Toffee',\n",
       " 'Tom',\n",
       " 'Tommy',\n",
       " 'Tonks',\n",
       " 'Torque',\n",
       " 'Tove',\n",
       " 'Travis',\n",
       " 'Traviss',\n",
       " 'Trevith',\n",
       " 'Trigger',\n",
       " 'Trip',\n",
       " 'Tripp',\n",
       " 'Trooper',\n",
       " 'Tuck',\n",
       " 'Tucker',\n",
       " 'Tuco',\n",
       " 'Tug',\n",
       " 'Tupawc',\n",
       " 'Tycho',\n",
       " 'Tyr',\n",
       " 'Tyrone',\n",
       " 'Tyrus',\n",
       " 'Ulysses',\n",
       " 'Venti',\n",
       " 'Vince',\n",
       " 'Vincent',\n",
       " 'Vinnie',\n",
       " 'Vinscent',\n",
       " 'Vixen',\n",
       " 'Wafer',\n",
       " 'Waffles',\n",
       " 'Walker',\n",
       " 'Wallace',\n",
       " 'Wally',\n",
       " 'Walter',\n",
       " 'Watson',\n",
       " 'Wesley',\n",
       " 'Wiggles',\n",
       " 'Willem',\n",
       " 'William',\n",
       " 'Willie',\n",
       " 'Willow',\n",
       " 'Willy',\n",
       " 'Wilson',\n",
       " 'Winifred',\n",
       " 'Winnie',\n",
       " 'Winston',\n",
       " 'Wishes',\n",
       " 'Wyatt',\n",
       " 'Yoda',\n",
       " 'Yogi',\n",
       " 'Yukon',\n",
       " 'Zara',\n",
       " 'Zeek',\n",
       " 'Zeke',\n",
       " 'Zeus',\n",
       " 'Ziva',\n",
       " 'Zoe',\n",
       " 'Zoey',\n",
       " 'Zooey',\n",
       " 'Zuzu',\n",
       " 'a',\n",
       " 'actually',\n",
       " 'all',\n",
       " 'an',\n",
       " 'by',\n",
       " 'getting',\n",
       " 'his',\n",
       " 'incredibly',\n",
       " 'infuriating',\n",
       " 'just',\n",
       " 'life',\n",
       " 'light',\n",
       " 'mad',\n",
       " 'my',\n",
       " 'not',\n",
       " 'officially',\n",
       " 'old',\n",
       " 'one',\n",
       " 'quite',\n",
       " 'space',\n",
       " 'such',\n",
       " 'the',\n",
       " 'this',\n",
       " 'unacceptable',\n",
       " 'very']"
      ]
     },
     "execution_count": 22,
     "metadata": {},
     "output_type": "execute_result"
    }
   ],
   "source": [
    "sorted(df_twitter.name.unique())"
   ]
  },
  {
   "cell_type": "code",
   "execution_count": 23,
   "id": "81a8cc4c-cffb-4dc0-8dc0-8e32e8f790fe",
   "metadata": {},
   "outputs": [
    {
     "data": {
      "text/plain": [
       "745"
      ]
     },
     "execution_count": 23,
     "metadata": {},
     "output_type": "execute_result"
    }
   ],
   "source": [
    "sum(df_twitter.name == 'None')"
   ]
  },
  {
   "cell_type": "code",
   "execution_count": 24,
   "id": "52002e05-f9f0-42da-b9be-8dfef368b79e",
   "metadata": {},
   "outputs": [
    {
     "data": {
      "text/html": [
       "<div>\n",
       "<style scoped>\n",
       "    .dataframe tbody tr th:only-of-type {\n",
       "        vertical-align: middle;\n",
       "    }\n",
       "\n",
       "    .dataframe tbody tr th {\n",
       "        vertical-align: top;\n",
       "    }\n",
       "\n",
       "    .dataframe thead th {\n",
       "        text-align: right;\n",
       "    }\n",
       "</style>\n",
       "<table border=\"1\" class=\"dataframe\">\n",
       "  <thead>\n",
       "    <tr style=\"text-align: right;\">\n",
       "      <th></th>\n",
       "      <th>tweet_id</th>\n",
       "      <th>text</th>\n",
       "      <th>name</th>\n",
       "    </tr>\n",
       "  </thead>\n",
       "  <tbody>\n",
       "    <tr>\n",
       "      <th>542</th>\n",
       "      <td>806219024703037440</td>\n",
       "      <td>We only rate dogs. Please stop sending in non-...</td>\n",
       "      <td>incredibly</td>\n",
       "    </tr>\n",
       "  </tbody>\n",
       "</table>\n",
       "</div>"
      ],
      "text/plain": [
       "               tweet_id                                               text  \\\n",
       "542  806219024703037440  We only rate dogs. Please stop sending in non-...   \n",
       "\n",
       "           name  \n",
       "542  incredibly  "
      ]
     },
     "execution_count": 24,
     "metadata": {},
     "output_type": "execute_result"
    }
   ],
   "source": [
    "df_twitter.query('name == \"incredibly\"')[['tweet_id', 'text', 'name']]"
   ]
  },
  {
   "cell_type": "code",
   "execution_count": 25,
   "id": "b5e56cb4-4d03-438a-a570-ca1502e50e0f",
   "metadata": {},
   "outputs": [
    {
     "data": {
      "text/plain": [
       "55"
      ]
     },
     "execution_count": 25,
     "metadata": {},
     "output_type": "execute_result"
    }
   ],
   "source": [
    "## 55 rows with name has a\n",
    "sum(df_twitter.name == 'a')"
   ]
  },
  {
   "cell_type": "code",
   "execution_count": 26,
   "id": "798c39a7-6650-424b-a814-8c34ea49e656",
   "metadata": {},
   "outputs": [
    {
     "data": {
      "text/plain": [
       "(313       0\n",
       " 2335      2\n",
       " 516       7\n",
       " 1576     10\n",
       " 1575     10\n",
       "        ... \n",
       " 1635    110\n",
       " 1779    120\n",
       " 1634    130\n",
       " 902     150\n",
       " 1120    170\n",
       " Name: rating_denominator, Length: 2356, dtype: int64,\n",
       " 315        0\n",
       " 1016       0\n",
       " 2335       1\n",
       " 2261       1\n",
       " 2338       1\n",
       "         ... \n",
       " 2074     420\n",
       " 188      420\n",
       " 189      666\n",
       " 313      960\n",
       " 979     1776\n",
       " Name: rating_numerator, Length: 2356, dtype: int64)"
      ]
     },
     "execution_count": 26,
     "metadata": {},
     "output_type": "execute_result"
    }
   ],
   "source": [
    "df_twitter['rating_denominator'].sort_values(), df_twitter['rating_numerator'].sort_values()"
   ]
  },
  {
   "cell_type": "code",
   "execution_count": 27,
   "id": "0a3b38df-0d29-445b-a122-0be001dcb337",
   "metadata": {},
   "outputs": [
    {
     "data": {
      "text/plain": [
       "(2356, 17)"
      ]
     },
     "execution_count": 27,
     "metadata": {},
     "output_type": "execute_result"
    }
   ],
   "source": [
    "#Comparing dataframe shapes\n",
    "df_twitter.shape"
   ]
  },
  {
   "cell_type": "code",
   "execution_count": 28,
   "id": "e3efb864-0ea2-4ace-b2e2-84cc6b57551b",
   "metadata": {},
   "outputs": [
    {
     "data": {
      "text/plain": [
       "(2075, 12)"
      ]
     },
     "execution_count": 28,
     "metadata": {},
     "output_type": "execute_result"
    }
   ],
   "source": [
    "image_df.shape"
   ]
  },
  {
   "cell_type": "code",
   "execution_count": 29,
   "id": "2ea3d99d-a1ab-4539-9a07-a0aea9952e63",
   "metadata": {},
   "outputs": [
    {
     "data": {
      "text/plain": [
       "(2354, 3)"
      ]
     },
     "execution_count": 29,
     "metadata": {},
     "output_type": "execute_result"
    }
   ],
   "source": [
    "json_df.shape"
   ]
  },
  {
   "cell_type": "code",
   "execution_count": 30,
   "id": "8a636592-d666-4960-90ba-996b2e70cfd6",
   "metadata": {},
   "outputs": [
    {
     "data": {
      "text/html": [
       "<div>\n",
       "<style scoped>\n",
       "    .dataframe tbody tr th:only-of-type {\n",
       "        vertical-align: middle;\n",
       "    }\n",
       "\n",
       "    .dataframe tbody tr th {\n",
       "        vertical-align: top;\n",
       "    }\n",
       "\n",
       "    .dataframe thead th {\n",
       "        text-align: right;\n",
       "    }\n",
       "</style>\n",
       "<table border=\"1\" class=\"dataframe\">\n",
       "  <thead>\n",
       "    <tr style=\"text-align: right;\">\n",
       "      <th></th>\n",
       "      <th>tweet_id</th>\n",
       "      <th>jpg_url</th>\n",
       "      <th>img_num</th>\n",
       "      <th>p1</th>\n",
       "      <th>p1_conf</th>\n",
       "      <th>p1_dog</th>\n",
       "      <th>p2</th>\n",
       "      <th>p2_conf</th>\n",
       "      <th>p2_dog</th>\n",
       "      <th>p3</th>\n",
       "      <th>p3_conf</th>\n",
       "      <th>p3_dog</th>\n",
       "    </tr>\n",
       "  </thead>\n",
       "  <tbody>\n",
       "    <tr>\n",
       "      <th>2005</th>\n",
       "      <td>877556246731214848</td>\n",
       "      <td>https://pbs.twimg.com/media/DC20wEcW0AAf59m.jpg</td>\n",
       "      <td>1</td>\n",
       "      <td>basset</td>\n",
       "      <td>0.995368</td>\n",
       "      <td>True</td>\n",
       "      <td>Welsh_springer_spaniel</td>\n",
       "      <td>0.001936</td>\n",
       "      <td>True</td>\n",
       "      <td>bathtub</td>\n",
       "      <td>0.000468</td>\n",
       "      <td>False</td>\n",
       "    </tr>\n",
       "    <tr>\n",
       "      <th>322</th>\n",
       "      <td>671866342182637568</td>\n",
       "      <td>https://pbs.twimg.com/media/CVLy3zFWoAA93qJ.jpg</td>\n",
       "      <td>1</td>\n",
       "      <td>Labrador_retriever</td>\n",
       "      <td>0.875614</td>\n",
       "      <td>True</td>\n",
       "      <td>Chihuahua</td>\n",
       "      <td>0.032182</td>\n",
       "      <td>True</td>\n",
       "      <td>golden_retriever</td>\n",
       "      <td>0.017232</td>\n",
       "      <td>True</td>\n",
       "    </tr>\n",
       "    <tr>\n",
       "      <th>751</th>\n",
       "      <td>688064179421470721</td>\n",
       "      <td>https://pbs.twimg.com/media/CYx-tGaUoAAEXV8.jpg</td>\n",
       "      <td>1</td>\n",
       "      <td>Eskimo_dog</td>\n",
       "      <td>0.240602</td>\n",
       "      <td>True</td>\n",
       "      <td>Norwegian_elkhound</td>\n",
       "      <td>0.180369</td>\n",
       "      <td>True</td>\n",
       "      <td>Siberian_husky</td>\n",
       "      <td>0.090739</td>\n",
       "      <td>True</td>\n",
       "    </tr>\n",
       "    <tr>\n",
       "      <th>1429</th>\n",
       "      <td>772877495989305348</td>\n",
       "      <td>https://pbs.twimg.com/ext_tw_video_thumb/77287...</td>\n",
       "      <td>1</td>\n",
       "      <td>tabby</td>\n",
       "      <td>0.218303</td>\n",
       "      <td>False</td>\n",
       "      <td>Norwegian_elkhound</td>\n",
       "      <td>0.138523</td>\n",
       "      <td>True</td>\n",
       "      <td>wombat</td>\n",
       "      <td>0.074217</td>\n",
       "      <td>False</td>\n",
       "    </tr>\n",
       "    <tr>\n",
       "      <th>1208</th>\n",
       "      <td>742385895052087300</td>\n",
       "      <td>https://pbs.twimg.com/media/Ck18CFcXIAAUWoy.jpg</td>\n",
       "      <td>1</td>\n",
       "      <td>Cardigan</td>\n",
       "      <td>0.566911</td>\n",
       "      <td>True</td>\n",
       "      <td>Border_collie</td>\n",
       "      <td>0.117566</td>\n",
       "      <td>True</td>\n",
       "      <td>Appenzeller</td>\n",
       "      <td>0.047664</td>\n",
       "      <td>True</td>\n",
       "    </tr>\n",
       "  </tbody>\n",
       "</table>\n",
       "</div>"
      ],
      "text/plain": [
       "                tweet_id                                            jpg_url  \\\n",
       "2005  877556246731214848    https://pbs.twimg.com/media/DC20wEcW0AAf59m.jpg   \n",
       "322   671866342182637568    https://pbs.twimg.com/media/CVLy3zFWoAA93qJ.jpg   \n",
       "751   688064179421470721    https://pbs.twimg.com/media/CYx-tGaUoAAEXV8.jpg   \n",
       "1429  772877495989305348  https://pbs.twimg.com/ext_tw_video_thumb/77287...   \n",
       "1208  742385895052087300    https://pbs.twimg.com/media/Ck18CFcXIAAUWoy.jpg   \n",
       "\n",
       "      img_num                  p1   p1_conf  p1_dog                      p2  \\\n",
       "2005        1              basset  0.995368    True  Welsh_springer_spaniel   \n",
       "322         1  Labrador_retriever  0.875614    True               Chihuahua   \n",
       "751         1          Eskimo_dog  0.240602    True      Norwegian_elkhound   \n",
       "1429        1               tabby  0.218303   False      Norwegian_elkhound   \n",
       "1208        1            Cardigan  0.566911    True           Border_collie   \n",
       "\n",
       "       p2_conf  p2_dog                p3   p3_conf  p3_dog  \n",
       "2005  0.001936    True           bathtub  0.000468   False  \n",
       "322   0.032182    True  golden_retriever  0.017232    True  \n",
       "751   0.180369    True    Siberian_husky  0.090739    True  \n",
       "1429  0.138523    True            wombat  0.074217   False  \n",
       "1208  0.117566    True       Appenzeller  0.047664    True  "
      ]
     },
     "execution_count": 30,
     "metadata": {},
     "output_type": "execute_result"
    }
   ],
   "source": [
    "image_df.sample(5)"
   ]
  },
  {
   "cell_type": "code",
   "execution_count": 31,
   "id": "060daa23-8c03-44fe-a3a5-630970feecd1",
   "metadata": {},
   "outputs": [
    {
     "name": "stdout",
     "output_type": "stream",
     "text": [
      "<class 'pandas.core.frame.DataFrame'>\n",
      "RangeIndex: 2075 entries, 0 to 2074\n",
      "Data columns (total 12 columns):\n",
      " #   Column    Non-Null Count  Dtype  \n",
      "---  ------    --------------  -----  \n",
      " 0   tweet_id  2075 non-null   int64  \n",
      " 1   jpg_url   2075 non-null   object \n",
      " 2   img_num   2075 non-null   int64  \n",
      " 3   p1        2075 non-null   object \n",
      " 4   p1_conf   2075 non-null   float64\n",
      " 5   p1_dog    2075 non-null   bool   \n",
      " 6   p2        2075 non-null   object \n",
      " 7   p2_conf   2075 non-null   float64\n",
      " 8   p2_dog    2075 non-null   bool   \n",
      " 9   p3        2075 non-null   object \n",
      " 10  p3_conf   2075 non-null   float64\n",
      " 11  p3_dog    2075 non-null   bool   \n",
      "dtypes: bool(3), float64(3), int64(2), object(4)\n",
      "memory usage: 152.1+ KB\n"
     ]
    }
   ],
   "source": [
    "image_df.info()"
   ]
  },
  {
   "cell_type": "code",
   "execution_count": 32,
   "id": "c824502a-f362-4d50-afbf-32103b6a2ecb",
   "metadata": {},
   "outputs": [
    {
     "data": {
      "text/plain": [
       "tweet_id    0\n",
       "jpg_url     0\n",
       "img_num     0\n",
       "p1          0\n",
       "p1_conf     0\n",
       "p1_dog      0\n",
       "p2          0\n",
       "p2_conf     0\n",
       "p2_dog      0\n",
       "p3          0\n",
       "p3_conf     0\n",
       "p3_dog      0\n",
       "dtype: int64"
      ]
     },
     "execution_count": 32,
     "metadata": {},
     "output_type": "execute_result"
    }
   ],
   "source": [
    "image_df.isnull().sum()"
   ]
  },
  {
   "cell_type": "code",
   "execution_count": 33,
   "id": "41bd860c-1100-46ad-a901-b7b106e14a12",
   "metadata": {},
   "outputs": [
    {
     "data": {
      "text/plain": [
       "0"
      ]
     },
     "execution_count": 33,
     "metadata": {},
     "output_type": "execute_result"
    }
   ],
   "source": [
    "sum(image_df.duplicated())"
   ]
  },
  {
   "cell_type": "code",
   "execution_count": 34,
   "id": "09855dae-9fe0-47cd-aeb0-2b70a01ae15f",
   "metadata": {},
   "outputs": [
    {
     "data": {
      "text/html": [
       "<div>\n",
       "<style scoped>\n",
       "    .dataframe tbody tr th:only-of-type {\n",
       "        vertical-align: middle;\n",
       "    }\n",
       "\n",
       "    .dataframe tbody tr th {\n",
       "        vertical-align: top;\n",
       "    }\n",
       "\n",
       "    .dataframe thead th {\n",
       "        text-align: right;\n",
       "    }\n",
       "</style>\n",
       "<table border=\"1\" class=\"dataframe\">\n",
       "  <thead>\n",
       "    <tr style=\"text-align: right;\">\n",
       "      <th></th>\n",
       "      <th>id</th>\n",
       "      <th>retweet_count</th>\n",
       "      <th>favorite_count</th>\n",
       "    </tr>\n",
       "  </thead>\n",
       "  <tbody>\n",
       "    <tr>\n",
       "      <th>504</th>\n",
       "      <td>812781120811126785</td>\n",
       "      <td>2191</td>\n",
       "      <td>8380</td>\n",
       "    </tr>\n",
       "    <tr>\n",
       "      <th>1781</th>\n",
       "      <td>677673981332312066</td>\n",
       "      <td>1677</td>\n",
       "      <td>3603</td>\n",
       "    </tr>\n",
       "    <tr>\n",
       "      <th>536</th>\n",
       "      <td>806629075125202948</td>\n",
       "      <td>37911</td>\n",
       "      <td>75639</td>\n",
       "    </tr>\n",
       "    <tr>\n",
       "      <th>171</th>\n",
       "      <td>858843525470990336</td>\n",
       "      <td>3771</td>\n",
       "      <td>16304</td>\n",
       "    </tr>\n",
       "    <tr>\n",
       "      <th>132</th>\n",
       "      <td>866720684873056260</td>\n",
       "      <td>5168</td>\n",
       "      <td>20888</td>\n",
       "    </tr>\n",
       "  </tbody>\n",
       "</table>\n",
       "</div>"
      ],
      "text/plain": [
       "                      id  retweet_count  favorite_count\n",
       "504   812781120811126785           2191            8380\n",
       "1781  677673981332312066           1677            3603\n",
       "536   806629075125202948          37911           75639\n",
       "171   858843525470990336           3771           16304\n",
       "132   866720684873056260           5168           20888"
      ]
     },
     "execution_count": 34,
     "metadata": {},
     "output_type": "execute_result"
    }
   ],
   "source": [
    "json_df.sample(5)"
   ]
  },
  {
   "cell_type": "code",
   "execution_count": 35,
   "id": "3bfc65d4-2f2d-424e-8ee7-db2f4dd4be6e",
   "metadata": {},
   "outputs": [
    {
     "name": "stdout",
     "output_type": "stream",
     "text": [
      "<class 'pandas.core.frame.DataFrame'>\n",
      "RangeIndex: 2354 entries, 0 to 2353\n",
      "Data columns (total 3 columns):\n",
      " #   Column          Non-Null Count  Dtype\n",
      "---  ------          --------------  -----\n",
      " 0   id              2354 non-null   int64\n",
      " 1   retweet_count   2354 non-null   int64\n",
      " 2   favorite_count  2354 non-null   int64\n",
      "dtypes: int64(3)\n",
      "memory usage: 55.3 KB\n"
     ]
    }
   ],
   "source": [
    "json_df.info()"
   ]
  },
  {
   "cell_type": "code",
   "execution_count": 36,
   "id": "fd76749f-564e-4dfe-a40d-11fe336aca5b",
   "metadata": {},
   "outputs": [
    {
     "data": {
      "text/plain": [
       "id                0\n",
       "retweet_count     0\n",
       "favorite_count    0\n",
       "dtype: int64"
      ]
     },
     "execution_count": 36,
     "metadata": {},
     "output_type": "execute_result"
    }
   ],
   "source": [
    "json_df.isnull().sum()"
   ]
  },
  {
   "cell_type": "code",
   "execution_count": 37,
   "id": "b6b0c7ca-6e4f-43db-967d-da0c3e37600b",
   "metadata": {},
   "outputs": [
    {
     "data": {
      "text/plain": [
       "0"
      ]
     },
     "execution_count": 37,
     "metadata": {},
     "output_type": "execute_result"
    }
   ],
   "source": [
    "sum(json_df.duplicated())"
   ]
  },
  {
   "cell_type": "markdown",
   "id": "ce6d2865-f465-470f-829f-3def51c07d81",
   "metadata": {
    "jp-MarkdownHeadingCollapsed": true,
    "tags": []
   },
   "source": [
    "### 2.2 Data quality issues identified while assessing data\n",
    "* timestamp and  in df_twitter has wrong data type and should be datetime\n",
    "* 181 retweets, indicating duplicated rows\n",
    "* missing values in the name column appearing as 'None'.\n",
    "* Invalid names like a, an, by, getting, his, incredibly, infuriating, officially, quite, space, such , the , this, uacceptable and very\n",
    "* names wrongly spelt like billl,carll, Jennifur, klevin, paull, samsom, shawwn, traviss zooey \n",
    "* 55 users with invalid name 'a'\n",
    "* inconsitency in rating_numerator and rating denominator\n",
    "* the three dataframes do not have thesame shape\n",
    "* Image predition data does not have decriptive columns names\n",
    "\n",
    "### 2.3 Data tidiness Issues identified while assessing the data\n",
    "* doggo, floofer, pupper and puppo should be categorical data\n",
    "* the archived data and twitter api data should be merged"
   ]
  },
  {
   "cell_type": "markdown",
   "id": "ed9dc0e0-5153-477e-86b0-c25742e92064",
   "metadata": {
    "tags": []
   },
   "source": [
    "## 3. Cleaning The Data"
   ]
  },
  {
   "cell_type": "markdown",
   "id": "715d98eb-2428-4e8f-bfdc-46aca6b39812",
   "metadata": {},
   "source": [
    "> A copy of each dataset will be created to avoid tampering the original data. furthermore, the data cleaning process will involve three stages namely:\n",
    "1. **Define**: establishes how the data will be cleaned\n",
    "2. **Code**: Converts the defined steps to code\n",
    "3. **Test**: Tests the result of the code to confirm if it was properly implemented"
   ]
  },
  {
   "cell_type": "code",
   "execution_count": 95,
   "id": "f3b816c5-4092-42f8-bf83-10d7b343ff07",
   "metadata": {},
   "outputs": [],
   "source": [
    "#creating copy of each dataset\n",
    "df_twitter_clean= df_twitter.copy()\n",
    "image_df_clean = image_df.copy()\n",
    "json_df_clean = json_df.copy()"
   ]
  },
  {
   "cell_type": "markdown",
   "id": "8083c832-9596-4501-98e4-3e9fc33cd223",
   "metadata": {},
   "source": [
    "**Define**\n",
    "> Keeping only the original ratings "
   ]
  },
  {
   "cell_type": "markdown",
   "id": "7f7233d3-b97c-44d5-ba47-9c8c8075480f",
   "metadata": {},
   "source": [
    "**Code**"
   ]
  },
  {
   "cell_type": "markdown",
   "id": "ac36806f-94b7-4ab8-a5db-99b311228cf6",
   "metadata": {},
   "source": [
    "### identifying rows with retweets  "
   ]
  },
  {
   "cell_type": "code",
   "execution_count": 96,
   "id": "98a263a3-16c7-4dbb-86e0-04ecb5e020cc",
   "metadata": {},
   "outputs": [
    {
     "name": "stdout",
     "output_type": "stream",
     "text": [
      "number of rows with retweets:  181\n"
     ]
    }
   ],
   "source": [
    "print(\"number of rows with retweets:  {}\".format(sum(df_twitter_clean.retweeted_status_id.notnull())))"
   ]
  },
  {
   "cell_type": "markdown",
   "id": "158662d6-6037-4596-8275-f2254fe9f3b0",
   "metadata": {},
   "source": [
    "> Removing retweets rows"
   ]
  },
  {
   "cell_type": "code",
   "execution_count": 97,
   "id": "c91b5a9f-306c-40ce-839b-975de1a9fc98",
   "metadata": {},
   "outputs": [
    {
     "name": "stdout",
     "output_type": "stream",
     "text": [
      "<class 'pandas.core.frame.DataFrame'>\n",
      "RangeIndex: 2356 entries, 0 to 2355\n",
      "Data columns (total 17 columns):\n",
      " #   Column                      Non-Null Count  Dtype  \n",
      "---  ------                      --------------  -----  \n",
      " 0   tweet_id                    2356 non-null   int64  \n",
      " 1   in_reply_to_status_id       78 non-null     float64\n",
      " 2   in_reply_to_user_id         78 non-null     float64\n",
      " 3   timestamp                   2356 non-null   object \n",
      " 4   source                      2356 non-null   object \n",
      " 5   text                        2356 non-null   object \n",
      " 6   retweeted_status_id         181 non-null    float64\n",
      " 7   retweeted_status_user_id    181 non-null    float64\n",
      " 8   retweeted_status_timestamp  181 non-null    object \n",
      " 9   expanded_urls               2297 non-null   object \n",
      " 10  rating_numerator            2356 non-null   int64  \n",
      " 11  rating_denominator          2356 non-null   int64  \n",
      " 12  name                        2356 non-null   object \n",
      " 13  doggo                       2356 non-null   object \n",
      " 14  floofer                     2356 non-null   object \n",
      " 15  pupper                      2356 non-null   object \n",
      " 16  puppo                       2356 non-null   object \n",
      "dtypes: float64(4), int64(3), object(10)\n",
      "memory usage: 313.0+ KB\n"
     ]
    }
   ],
   "source": [
    "df_twitter_clean.info()"
   ]
  },
  {
   "cell_type": "code",
   "execution_count": 98,
   "id": "0d006797-00bc-46c8-9164-4fd293d4672b",
   "metadata": {},
   "outputs": [],
   "source": [
    "#keeping only the original tweets and removing all rows with retweet\n",
    "df_twitter_clean = df_twitter_clean[df_twitter_clean.retweeted_status_id.isna()]"
   ]
  },
  {
   "cell_type": "markdown",
   "id": "4f917235-eb66-4129-aa4f-25e1a79d497e",
   "metadata": {},
   "source": [
    "**Test**"
   ]
  },
  {
   "cell_type": "code",
   "execution_count": 99,
   "id": "dd3c4e52-56e6-4e96-b665-4cd2d44aa3be",
   "metadata": {},
   "outputs": [
    {
     "name": "stdout",
     "output_type": "stream",
     "text": [
      "<class 'pandas.core.frame.DataFrame'>\n",
      "Int64Index: 2175 entries, 0 to 2355\n",
      "Data columns (total 17 columns):\n",
      " #   Column                      Non-Null Count  Dtype  \n",
      "---  ------                      --------------  -----  \n",
      " 0   tweet_id                    2175 non-null   int64  \n",
      " 1   in_reply_to_status_id       78 non-null     float64\n",
      " 2   in_reply_to_user_id         78 non-null     float64\n",
      " 3   timestamp                   2175 non-null   object \n",
      " 4   source                      2175 non-null   object \n",
      " 5   text                        2175 non-null   object \n",
      " 6   retweeted_status_id         0 non-null      float64\n",
      " 7   retweeted_status_user_id    0 non-null      float64\n",
      " 8   retweeted_status_timestamp  0 non-null      object \n",
      " 9   expanded_urls               2117 non-null   object \n",
      " 10  rating_numerator            2175 non-null   int64  \n",
      " 11  rating_denominator          2175 non-null   int64  \n",
      " 12  name                        2175 non-null   object \n",
      " 13  doggo                       2175 non-null   object \n",
      " 14  floofer                     2175 non-null   object \n",
      " 15  pupper                      2175 non-null   object \n",
      " 16  puppo                       2175 non-null   object \n",
      "dtypes: float64(4), int64(3), object(10)\n",
      "memory usage: 305.9+ KB\n"
     ]
    }
   ],
   "source": [
    "#Checking to see if retweets have been removed\n",
    "df_twitter_clean.info()"
   ]
  },
  {
   "cell_type": "markdown",
   "id": "3ad4979e-1ec3-4980-9ef1-7636fc218fbc",
   "metadata": {},
   "source": [
    "> The 181 retweets rows have been deleted, hence the empty columns will be deleted"
   ]
  },
  {
   "cell_type": "code",
   "execution_count": 100,
   "id": "5eb1bc67-265a-44be-a943-b1c51d1cceed",
   "metadata": {},
   "outputs": [],
   "source": [
    "# Dropping columns that are not needed\n",
    "irrelevant_cols = ['in_reply_to_status_id','in_reply_to_user_id','retweeted_status_id','retweeted_status_user_id','retweeted_status_timestamp','expanded_urls']\n",
    "df_twitter_clean = df_twitter_clean.drop(irrelevant_cols, axis = 1)"
   ]
  },
  {
   "cell_type": "markdown",
   "id": "eaa63825-ee19-4d19-addb-321df720a9cf",
   "metadata": {},
   "source": [
    "**Define**\n",
    "* change the timestamp and retweeted_status_timestamp to datetime() data type"
   ]
  },
  {
   "cell_type": "markdown",
   "id": "d4b454f1-6f04-43a3-858f-636be9b179fc",
   "metadata": {},
   "source": [
    "**Code**"
   ]
  },
  {
   "cell_type": "code",
   "execution_count": 101,
   "id": "c1563b08-22f8-4199-90fe-953b5aadc600",
   "metadata": {},
   "outputs": [
    {
     "data": {
      "text/html": [
       "<div>\n",
       "<style scoped>\n",
       "    .dataframe tbody tr th:only-of-type {\n",
       "        vertical-align: middle;\n",
       "    }\n",
       "\n",
       "    .dataframe tbody tr th {\n",
       "        vertical-align: top;\n",
       "    }\n",
       "\n",
       "    .dataframe thead th {\n",
       "        text-align: right;\n",
       "    }\n",
       "</style>\n",
       "<table border=\"1\" class=\"dataframe\">\n",
       "  <thead>\n",
       "    <tr style=\"text-align: right;\">\n",
       "      <th></th>\n",
       "      <th>tweet_id</th>\n",
       "      <th>timestamp</th>\n",
       "      <th>source</th>\n",
       "      <th>text</th>\n",
       "      <th>rating_numerator</th>\n",
       "      <th>rating_denominator</th>\n",
       "      <th>name</th>\n",
       "      <th>doggo</th>\n",
       "      <th>floofer</th>\n",
       "      <th>pupper</th>\n",
       "      <th>puppo</th>\n",
       "    </tr>\n",
       "  </thead>\n",
       "  <tbody>\n",
       "    <tr>\n",
       "      <th>1820</th>\n",
       "      <td>676588346097852417</td>\n",
       "      <td>2015-12-15 02:23:26 +0000</td>\n",
       "      <td>&lt;a href=\"http://twitter.com/download/iphone\" r...</td>\n",
       "      <td>This is Bubbles. He kinda resembles a fish. Al...</td>\n",
       "      <td>5</td>\n",
       "      <td>10</td>\n",
       "      <td>Bubbles</td>\n",
       "      <td>None</td>\n",
       "      <td>None</td>\n",
       "      <td>None</td>\n",
       "      <td>None</td>\n",
       "    </tr>\n",
       "  </tbody>\n",
       "</table>\n",
       "</div>"
      ],
      "text/plain": [
       "                tweet_id                  timestamp  \\\n",
       "1820  676588346097852417  2015-12-15 02:23:26 +0000   \n",
       "\n",
       "                                                 source  \\\n",
       "1820  <a href=\"http://twitter.com/download/iphone\" r...   \n",
       "\n",
       "                                                   text  rating_numerator  \\\n",
       "1820  This is Bubbles. He kinda resembles a fish. Al...                 5   \n",
       "\n",
       "      rating_denominator     name doggo floofer pupper puppo  \n",
       "1820                  10  Bubbles  None    None   None  None  "
      ]
     },
     "execution_count": 101,
     "metadata": {},
     "output_type": "execute_result"
    }
   ],
   "source": [
    "df_twitter_clean.sample()"
   ]
  },
  {
   "cell_type": "code",
   "execution_count": 102,
   "id": "44dc6360-ec87-47c9-8c09-5a59269a596d",
   "metadata": {},
   "outputs": [],
   "source": [
    "#code converting to datetime\n",
    "df_twitter_clean.timestamp = pd.to_datetime(df_twitter_clean.timestamp)"
   ]
  },
  {
   "cell_type": "markdown",
   "id": "932803e8-74fe-45ee-81fa-db3d42bccb5a",
   "metadata": {},
   "source": [
    "**Test**"
   ]
  },
  {
   "cell_type": "code",
   "execution_count": 103,
   "id": "99dc350e-8681-4fb4-a937-a72683830b05",
   "metadata": {},
   "outputs": [
    {
     "name": "stdout",
     "output_type": "stream",
     "text": [
      "<class 'pandas.core.frame.DataFrame'>\n",
      "Int64Index: 2175 entries, 0 to 2355\n",
      "Data columns (total 11 columns):\n",
      " #   Column              Non-Null Count  Dtype              \n",
      "---  ------              --------------  -----              \n",
      " 0   tweet_id            2175 non-null   int64              \n",
      " 1   timestamp           2175 non-null   datetime64[ns, UTC]\n",
      " 2   source              2175 non-null   object             \n",
      " 3   text                2175 non-null   object             \n",
      " 4   rating_numerator    2175 non-null   int64              \n",
      " 5   rating_denominator  2175 non-null   int64              \n",
      " 6   name                2175 non-null   object             \n",
      " 7   doggo               2175 non-null   object             \n",
      " 8   floofer             2175 non-null   object             \n",
      " 9   pupper              2175 non-null   object             \n",
      " 10  puppo               2175 non-null   object             \n",
      "dtypes: datetime64[ns, UTC](1), int64(3), object(7)\n",
      "memory usage: 203.9+ KB\n"
     ]
    }
   ],
   "source": [
    "#checking to confirm data type has been changed\n",
    "df_twitter_clean.info()"
   ]
  },
  {
   "cell_type": "markdown",
   "id": "a9e76e29-342f-4429-a028-a9e58b213ac9",
   "metadata": {},
   "source": [
    "**Define**\n",
    "* fixing the incorrect names using regular expression if available"
   ]
  },
  {
   "cell_type": "markdown",
   "id": "4d017d30-d006-4e42-9432-9ff3e4164dc1",
   "metadata": {},
   "source": [
    "**Code**\n"
   ]
  },
  {
   "cell_type": "code",
   "execution_count": 104,
   "id": "dd3864f5-c6cc-4075-8e8e-ba2955df3c5f",
   "metadata": {},
   "outputs": [
    {
     "data": {
      "text/html": [
       "<div>\n",
       "<style scoped>\n",
       "    .dataframe tbody tr th:only-of-type {\n",
       "        vertical-align: middle;\n",
       "    }\n",
       "\n",
       "    .dataframe tbody tr th {\n",
       "        vertical-align: top;\n",
       "    }\n",
       "\n",
       "    .dataframe thead th {\n",
       "        text-align: right;\n",
       "    }\n",
       "</style>\n",
       "<table border=\"1\" class=\"dataframe\">\n",
       "  <thead>\n",
       "    <tr style=\"text-align: right;\">\n",
       "      <th></th>\n",
       "      <th>text</th>\n",
       "      <th>name</th>\n",
       "    </tr>\n",
       "  </thead>\n",
       "  <tbody>\n",
       "    <tr>\n",
       "      <th>2347</th>\n",
       "      <td>My oh my. This is a rare blond Canadian terrie...</td>\n",
       "      <td>a</td>\n",
       "    </tr>\n",
       "    <tr>\n",
       "      <th>2066</th>\n",
       "      <td>This is a Helvetica Listerine named Rufus. Thi...</td>\n",
       "      <td>a</td>\n",
       "    </tr>\n",
       "    <tr>\n",
       "      <th>1747</th>\n",
       "      <td>This is officially the greatest yawn of all ti...</td>\n",
       "      <td>officially</td>\n",
       "    </tr>\n",
       "    <tr>\n",
       "      <th>1031</th>\n",
       "      <td>We only rate dogs. Pls stop sending in non-can...</td>\n",
       "      <td>very</td>\n",
       "    </tr>\n",
       "    <tr>\n",
       "      <th>2037</th>\n",
       "      <td>This is the best thing I've ever seen so sprea...</td>\n",
       "      <td>the</td>\n",
       "    </tr>\n",
       "    <tr>\n",
       "      <th>2191</th>\n",
       "      <td>This is a Slovakian Helter Skelter Feta named ...</td>\n",
       "      <td>a</td>\n",
       "    </tr>\n",
       "    <tr>\n",
       "      <th>2235</th>\n",
       "      <td>This is a Trans Siberian Kellogg named Alfonso...</td>\n",
       "      <td>a</td>\n",
       "    </tr>\n",
       "    <tr>\n",
       "      <th>992</th>\n",
       "      <td>That is Quizno. This is his beach. He does not...</td>\n",
       "      <td>his</td>\n",
       "    </tr>\n",
       "    <tr>\n",
       "      <th>1025</th>\n",
       "      <td>This is an Iraqi Speed Kangaroo. It is not a d...</td>\n",
       "      <td>an</td>\n",
       "    </tr>\n",
       "    <tr>\n",
       "      <th>1259</th>\n",
       "      <td>We 👏🏻 only 👏🏻 rate 👏🏻 dogs. Pls stop sending i...</td>\n",
       "      <td>infuriating</td>\n",
       "    </tr>\n",
       "    <tr>\n",
       "      <th>1207</th>\n",
       "      <td>This is a taco. We only rate dogs. Please only...</td>\n",
       "      <td>a</td>\n",
       "    </tr>\n",
       "    <tr>\n",
       "      <th>1603</th>\n",
       "      <td>This is the newly formed pupper a capella grou...</td>\n",
       "      <td>the</td>\n",
       "    </tr>\n",
       "    <tr>\n",
       "      <th>1120</th>\n",
       "      <td>Say hello to this unbelievably well behaved sq...</td>\n",
       "      <td>this</td>\n",
       "    </tr>\n",
       "    <tr>\n",
       "      <th>2311</th>\n",
       "      <td>This is a purebred Bacardi named Octaviath. Ca...</td>\n",
       "      <td>a</td>\n",
       "    </tr>\n",
       "    <tr>\n",
       "      <th>542</th>\n",
       "      <td>We only rate dogs. Please stop sending in non-...</td>\n",
       "      <td>incredibly</td>\n",
       "    </tr>\n",
       "    <tr>\n",
       "      <th>2287</th>\n",
       "      <td>This is a Dasani Kingfisher from Maine. His na...</td>\n",
       "      <td>a</td>\n",
       "    </tr>\n",
       "    <tr>\n",
       "      <th>1385</th>\n",
       "      <td>We only rate dogs. Pls stop sending in non-can...</td>\n",
       "      <td>very</td>\n",
       "    </tr>\n",
       "    <tr>\n",
       "      <th>2314</th>\n",
       "      <td>This is a golden Buckminsterfullerene named Jo...</td>\n",
       "      <td>a</td>\n",
       "    </tr>\n",
       "    <tr>\n",
       "      <th>1340</th>\n",
       "      <td>Here is a heartbreaking scene of an incredible...</td>\n",
       "      <td>a</td>\n",
       "    </tr>\n",
       "    <tr>\n",
       "      <th>2304</th>\n",
       "      <td>This is a curly Ticonderoga named Pepe. No fee...</td>\n",
       "      <td>a</td>\n",
       "    </tr>\n",
       "    <tr>\n",
       "      <th>2125</th>\n",
       "      <td>This is a Rich Mahogany Seltzer named Cherokee...</td>\n",
       "      <td>a</td>\n",
       "    </tr>\n",
       "    <tr>\n",
       "      <th>169</th>\n",
       "      <td>We only rate dogs. This is quite clearly a smo...</td>\n",
       "      <td>quite</td>\n",
       "    </tr>\n",
       "    <tr>\n",
       "      <th>1941</th>\n",
       "      <td>This is a heavily opinionated dog. Loves walls...</td>\n",
       "      <td>a</td>\n",
       "    </tr>\n",
       "    <tr>\n",
       "      <th>1121</th>\n",
       "      <td>We only rate dogs. Pls stop sending non-canine...</td>\n",
       "      <td>unacceptable</td>\n",
       "    </tr>\n",
       "    <tr>\n",
       "      <th>2128</th>\n",
       "      <td>This is a Speckled Cauliflower Yosemite named ...</td>\n",
       "      <td>a</td>\n",
       "    </tr>\n",
       "  </tbody>\n",
       "</table>\n",
       "</div>"
      ],
      "text/plain": [
       "                                                   text          name\n",
       "2347  My oh my. This is a rare blond Canadian terrie...             a\n",
       "2066  This is a Helvetica Listerine named Rufus. Thi...             a\n",
       "1747  This is officially the greatest yawn of all ti...    officially\n",
       "1031  We only rate dogs. Pls stop sending in non-can...          very\n",
       "2037  This is the best thing I've ever seen so sprea...           the\n",
       "2191  This is a Slovakian Helter Skelter Feta named ...             a\n",
       "2235  This is a Trans Siberian Kellogg named Alfonso...             a\n",
       "992   That is Quizno. This is his beach. He does not...           his\n",
       "1025  This is an Iraqi Speed Kangaroo. It is not a d...            an\n",
       "1259  We 👏🏻 only 👏🏻 rate 👏🏻 dogs. Pls stop sending i...   infuriating\n",
       "1207  This is a taco. We only rate dogs. Please only...             a\n",
       "1603  This is the newly formed pupper a capella grou...           the\n",
       "1120  Say hello to this unbelievably well behaved sq...          this\n",
       "2311  This is a purebred Bacardi named Octaviath. Ca...             a\n",
       "542   We only rate dogs. Please stop sending in non-...    incredibly\n",
       "2287  This is a Dasani Kingfisher from Maine. His na...             a\n",
       "1385  We only rate dogs. Pls stop sending in non-can...          very\n",
       "2314  This is a golden Buckminsterfullerene named Jo...             a\n",
       "1340  Here is a heartbreaking scene of an incredible...             a\n",
       "2304  This is a curly Ticonderoga named Pepe. No fee...             a\n",
       "2125  This is a Rich Mahogany Seltzer named Cherokee...             a\n",
       "169   We only rate dogs. This is quite clearly a smo...         quite\n",
       "1941  This is a heavily opinionated dog. Loves walls...             a\n",
       "1121  We only rate dogs. Pls stop sending non-canine...  unacceptable\n",
       "2128  This is a Speckled Cauliflower Yosemite named ...             a"
      ]
     },
     "execution_count": 104,
     "metadata": {},
     "output_type": "execute_result"
    }
   ],
   "source": [
    "# Samples of names that are \"a, an, the, very\"\n",
    "df_twitter_clean.query('(name == \"a\") | (name == \"an\") | (name == \"by\") | (name == \"getting\")|(name == \"his\")|(name == \"incredibly\")|(name == \"infuriating\")|(name == \"officially\")|(name == \"quite\")|(name == \"space\")|(name == \"the\")|(name == \"this\")|(name == \"unacceptable\")|(name == \"very\")')[['text', 'name']].sample(25)"
   ]
  },
  {
   "cell_type": "code",
   "execution_count": 105,
   "id": "8656b166-869a-436b-91e0-273e991627a2",
   "metadata": {},
   "outputs": [],
   "source": [
    "# Using regular exepressions (Regex) to extract the correct name from the text column\n",
    "# Using a function to loop through and replace the incorrect names with the right name and replace with None if no name was found\n",
    "def rightname(row):\n",
    "    \n",
    "    if row['name'] == \"a\" or row['name'] == \"an\" or row['name'] == \"by\" or row['name'] == \"getting\" or row['name'] == \"his\"or row['name'] == \"incredibly\"or row['name'] == \"infuriating\"or row['name'] == \"officially\"or row['name'] == \"quite\"or row['name'] == \"space\"or row['name'] == \"the\"or row['name'] == \"this\"or row['name'] == \"unacceptable\"or row['name'] == \"very\":\n",
    "        pattern = re.compile(r'(?:name(?:d)?\\s)(?:is\\s)?(\\w+)')\n",
    "\n",
    "        try:\n",
    "            right_name = re.findall(pattern, row['text'])[0]\n",
    "            \n",
    "            row['name'] = row['name'].replace('a', right_name)\n",
    "            row['name'] = row['name'].replace('an', right_name)\n",
    "            row['name'] = row['name'].replace('by', right_name)\n",
    "            row['name'] = row['name'].replace('getting', right_name)\n",
    "            row['name'] = row['name'].replace('his', right_name)\n",
    "            row['name'] = row['name'].replace('incredibly', right_name)\n",
    "            row['name'] = row['name'].replace('infuriating', right_name)\n",
    "            row['name'] = row['name'].replace('officially', right_name)\n",
    "            row['name'] = row['name'].replace('quite', right_name)\n",
    "            row['name'] = row['name'].replace('space', right_name)\n",
    "            row['name'] = row['name'].replace('the', right_name)\n",
    "            row['name'] = row['name'].replace('this', right_name)\n",
    "            row['name'] = row['name'].replace('unacceptable', right_name)\n",
    "            row['name'] = row['name'].replace('very', right_name)\n",
    "\n",
    "        except Exception as e:\n",
    "            right_name = \"None\"\n",
    "\n",
    "            row['name'] = row['name'].replace('a', right_name)\n",
    "            row['name'] = row['name'].replace('an', right_name)\n",
    "            row['name'] = row['name'].replace('by', right_name)\n",
    "            row['name'] = row['name'].replace('getting', right_name)\n",
    "            row['name'] = row['name'].replace('his', right_name)\n",
    "            row['name'] = row['name'].replace('incredibly', right_name)\n",
    "            row['name'] = row['name'].replace('infuriating', right_name)\n",
    "            row['name'] = row['name'].replace('officially', right_name)\n",
    "            row['name'] = row['name'].replace('quite', right_name)\n",
    "            row['name'] = row['name'].replace('space', right_name)\n",
    "            row['name'] = row['name'].replace('the', right_name)\n",
    "            row['name'] = row['name'].replace('this', right_name)\n",
    "            row['name'] = row['name'].replace('unacceptable', right_name)\n",
    "            row['name'] = row['name'].replace('very', right_name)\n",
    "\n",
    "        return row\n",
    "    \n",
    "    else:\n",
    "        return row\n"
   ]
  },
  {
   "cell_type": "code",
   "execution_count": 106,
   "id": "7a6189b1-5909-43aa-ad88-d3f1d00ed1b0",
   "metadata": {},
   "outputs": [],
   "source": [
    "#putting the function into use\n",
    "df_twitter_clean = df_twitter_clean.apply(rightname, axis = 1)"
   ]
  },
  {
   "cell_type": "markdown",
   "id": "4298b7ba-9529-446c-9aa9-9bff9379a6e0",
   "metadata": {},
   "source": [
    "**Test**"
   ]
  },
  {
   "cell_type": "code",
   "execution_count": 107,
   "id": "f801ec16-b783-48dc-ae2b-f9cc7793c235",
   "metadata": {},
   "outputs": [
    {
     "data": {
      "text/html": [
       "<div>\n",
       "<style scoped>\n",
       "    .dataframe tbody tr th:only-of-type {\n",
       "        vertical-align: middle;\n",
       "    }\n",
       "\n",
       "    .dataframe tbody tr th {\n",
       "        vertical-align: top;\n",
       "    }\n",
       "\n",
       "    .dataframe thead th {\n",
       "        text-align: right;\n",
       "    }\n",
       "</style>\n",
       "<table border=\"1\" class=\"dataframe\">\n",
       "  <thead>\n",
       "    <tr style=\"text-align: right;\">\n",
       "      <th></th>\n",
       "      <th>text</th>\n",
       "      <th>name</th>\n",
       "    </tr>\n",
       "  </thead>\n",
       "  <tbody>\n",
       "  </tbody>\n",
       "</table>\n",
       "</div>"
      ],
      "text/plain": [
       "Empty DataFrame\n",
       "Columns: [text, name]\n",
       "Index: []"
      ]
     },
     "execution_count": 107,
     "metadata": {},
     "output_type": "execute_result"
    }
   ],
   "source": [
    "df_twitter_clean.query('(name == \"a\") | (name == \"an\") | (name == \"by\") | (name == \"getting\")|(name == \"his\")|(name == \"incredibly\")|(name == \"infuriating\")|(name == \"officially\")|(name == \"quite\")|(name == \"space\")|(name == \"the\")|(name == \"this\")|(name == \"unacceptable\")|(name == \"very\")')[['text', 'name']]"
   ]
  },
  {
   "cell_type": "code",
   "execution_count": 108,
   "id": "5693f0b0-95bd-4e23-a8dd-e6c5a8d089b9",
   "metadata": {},
   "outputs": [
    {
     "data": {
      "text/html": [
       "<div>\n",
       "<style scoped>\n",
       "    .dataframe tbody tr th:only-of-type {\n",
       "        vertical-align: middle;\n",
       "    }\n",
       "\n",
       "    .dataframe tbody tr th {\n",
       "        vertical-align: top;\n",
       "    }\n",
       "\n",
       "    .dataframe thead th {\n",
       "        text-align: right;\n",
       "    }\n",
       "</style>\n",
       "<table border=\"1\" class=\"dataframe\">\n",
       "  <thead>\n",
       "    <tr style=\"text-align: right;\">\n",
       "      <th></th>\n",
       "      <th>text</th>\n",
       "      <th>name</th>\n",
       "    </tr>\n",
       "  </thead>\n",
       "  <tbody>\n",
       "    <tr>\n",
       "      <th>2037</th>\n",
       "      <td>This is the best thing I've ever seen so sprea...</td>\n",
       "      <td>None</td>\n",
       "    </tr>\n",
       "    <tr>\n",
       "      <th>2036</th>\n",
       "      <td>I'm just going to leave this one here as well....</td>\n",
       "      <td>None</td>\n",
       "    </tr>\n",
       "    <tr>\n",
       "      <th>2035</th>\n",
       "      <td>This is Oscar. He's ready for Christmas. 11/10...</td>\n",
       "      <td>Oscar</td>\n",
       "    </tr>\n",
       "    <tr>\n",
       "      <th>2034</th>\n",
       "      <td>This is a Tuscaloosa Alcatraz named Jacob (Yac...</td>\n",
       "      <td>Jacob</td>\n",
       "    </tr>\n",
       "    <tr>\n",
       "      <th>2033</th>\n",
       "      <td>Very fit horned dog here. Looks powerful. Not ...</td>\n",
       "      <td>None</td>\n",
       "    </tr>\n",
       "    <tr>\n",
       "      <th>2032</th>\n",
       "      <td>Say hello to Mark. He's a good dog. Always rea...</td>\n",
       "      <td>Mark</td>\n",
       "    </tr>\n",
       "    <tr>\n",
       "      <th>2031</th>\n",
       "      <td>When you try to recreate the scene from Lady &amp;...</td>\n",
       "      <td>None</td>\n",
       "    </tr>\n",
       "  </tbody>\n",
       "</table>\n",
       "</div>"
      ],
      "text/plain": [
       "                                                   text   name\n",
       "2037  This is the best thing I've ever seen so sprea...   None\n",
       "2036  I'm just going to leave this one here as well....   None\n",
       "2035  This is Oscar. He's ready for Christmas. 11/10...  Oscar\n",
       "2034  This is a Tuscaloosa Alcatraz named Jacob (Yac...  Jacob\n",
       "2033  Very fit horned dog here. Looks powerful. Not ...   None\n",
       "2032  Say hello to Mark. He's a good dog. Always rea...   Mark\n",
       "2031  When you try to recreate the scene from Lady &...   None"
      ]
     },
     "execution_count": 108,
     "metadata": {},
     "output_type": "execute_result"
    }
   ],
   "source": [
    "# Checking row names\n",
    "df_twitter_clean.loc[[2037, 2036, 2035, 2034, 2033, 2032, 2031], ['text', 'name']]"
   ]
  },
  {
   "cell_type": "markdown",
   "id": "6f520fa3-e3b9-43e9-9d3c-dcf2baafc8a4",
   "metadata": {},
   "source": [
    "> Converting the 'None' to None value"
   ]
  },
  {
   "cell_type": "code",
   "execution_count": 109,
   "id": "4bdc3a98-9ae2-454c-a3a5-9dd7540fb2a7",
   "metadata": {},
   "outputs": [],
   "source": [
    "df_twitter_clean['name'] = df_twitter_clean.name.replace({'None': None})"
   ]
  },
  {
   "cell_type": "markdown",
   "id": "2b16650e-c10f-42a5-ba45-352d94c2e332",
   "metadata": {
    "tags": []
   },
   "source": [
    "### 3.1 Further Cleaning"
   ]
  },
  {
   "cell_type": "markdown",
   "id": "7b35c7e0-a7db-4ba7-98e3-127c316ca64c",
   "metadata": {},
   "source": [
    "**Code**\n",
    "> replacing all misspelt names"
   ]
  },
  {
   "cell_type": "code",
   "execution_count": 110,
   "id": "da31ce21-e821-4d24-b93a-69128c57d2f3",
   "metadata": {},
   "outputs": [],
   "source": [
    "df_twitter_clean[\"name\"] = df_twitter_clean['name'].replace('Billl', 'Bill')\n",
    "df_twitter_clean[\"name\"] = df_twitter_clean['name'].replace('Carll', 'Carl')\n",
    "df_twitter_clean[\"name\"] = df_twitter_clean['name'].replace('Jennifur', 'Jennifer')\n",
    "df_twitter_clean[\"name\"] = df_twitter_clean['name'].replace('Klevin', 'Kelvin')\n",
    "df_twitter_clean[\"name\"] = df_twitter_clean['name'].replace('Paull', 'Paul')\n",
    "df_twitter_clean[\"name\"] = df_twitter_clean['name'].replace('Samsom', 'Samson')\n",
    "df_twitter_clean[\"name\"] = df_twitter_clean['name'].replace('Shawwn', 'Shawn')\n",
    "df_twitter_clean[\"name\"] = df_twitter_clean['name'].replace('Traviss', 'Travis')\n",
    "df_twitter_clean[\"name\"] = df_twitter_clean['name'].replace('Zooey', 'Zoey')"
   ]
  },
  {
   "cell_type": "markdown",
   "id": "02a32acb-4dff-4ee8-9a9d-27a0874f1c62",
   "metadata": {},
   "source": [
    "**Test**"
   ]
  },
  {
   "cell_type": "code",
   "execution_count": 111,
   "id": "d5fe8057-488f-4db5-afcb-0cd1fbd9b951",
   "metadata": {},
   "outputs": [
    {
     "data": {
      "text/plain": [
       "False    1440\n",
       "Name: name, dtype: int64"
      ]
     },
     "execution_count": 111,
     "metadata": {},
     "output_type": "execute_result"
    }
   ],
   "source": [
    "#checking for the misspelt names\n",
    "df_twitter_clean[\"name\"].str.contains ('Billl' or'Carll' or 'Jennifur' or 'Klevin' or 'Paull' or 'Shawwn' or 'Samsom' or 'Traviss' or 'Zooey').value_counts()"
   ]
  },
  {
   "cell_type": "code",
   "execution_count": 112,
   "id": "16267089-87a6-4e3b-8ad9-df88437be41f",
   "metadata": {},
   "outputs": [
    {
     "name": "stdout",
     "output_type": "stream",
     "text": [
      "<class 'pandas.core.frame.DataFrame'>\n",
      "Int64Index: 2175 entries, 0 to 2355\n",
      "Data columns (total 11 columns):\n",
      " #   Column              Non-Null Count  Dtype              \n",
      "---  ------              --------------  -----              \n",
      " 0   tweet_id            2175 non-null   int64              \n",
      " 1   timestamp           2175 non-null   datetime64[ns, UTC]\n",
      " 2   source              2175 non-null   object             \n",
      " 3   text                2175 non-null   object             \n",
      " 4   rating_numerator    2175 non-null   int64              \n",
      " 5   rating_denominator  2175 non-null   int64              \n",
      " 6   name                1440 non-null   object             \n",
      " 7   doggo               2175 non-null   object             \n",
      " 8   floofer             2175 non-null   object             \n",
      " 9   pupper              2175 non-null   object             \n",
      " 10  puppo               2175 non-null   object             \n",
      "dtypes: datetime64[ns, UTC](1), int64(3), object(7)\n",
      "memory usage: 268.4+ KB\n"
     ]
    }
   ],
   "source": [
    "df_twitter_clean.info()"
   ]
  },
  {
   "cell_type": "markdown",
   "id": "d2f17f1b-1716-4b94-afe0-902b1f180c57",
   "metadata": {},
   "source": [
    "**Code**"
   ]
  },
  {
   "cell_type": "code",
   "execution_count": 113,
   "id": "4e5d069a-78f0-4a1a-a288-0c9a0936d27f",
   "metadata": {},
   "outputs": [],
   "source": [
    "#Removing outliers in numerator and denominator columns\n",
    "df_twitter_clean.drop(df_twitter_clean.loc[df_twitter_clean['rating_numerator'] < 10].index, inplace=True)\n",
    "df_twitter_clean.drop(df_twitter_clean.loc[df_twitter_clean['rating_numerator'] > 15].index, inplace=True)\n",
    "df_twitter_clean.drop(df_twitter_clean[df_twitter_clean['rating_denominator'] != 10].index, inplace = True)\n"
   ]
  },
  {
   "cell_type": "markdown",
   "id": "be34c126-04c7-4a67-b625-650ee2e21da1",
   "metadata": {},
   "source": [
    "**Test**"
   ]
  },
  {
   "cell_type": "code",
   "execution_count": 114,
   "id": "7ad1a86c-b4b1-4220-9763-0915ad1f962d",
   "metadata": {},
   "outputs": [
    {
     "data": {
      "text/plain": [
       "12    500\n",
       "10    442\n",
       "11    425\n",
       "13    307\n",
       "14     43\n",
       "15      1\n",
       "Name: rating_numerator, dtype: int64"
      ]
     },
     "execution_count": 114,
     "metadata": {},
     "output_type": "execute_result"
    }
   ],
   "source": [
    "df_twitter_clean['rating_numerator'].value_counts()"
   ]
  },
  {
   "cell_type": "code",
   "execution_count": 115,
   "id": "9d0e9b9c-8fce-47c6-9afd-11257abb90c3",
   "metadata": {},
   "outputs": [
    {
     "data": {
      "text/plain": [
       "10    1718\n",
       "Name: rating_denominator, dtype: int64"
      ]
     },
     "execution_count": 115,
     "metadata": {},
     "output_type": "execute_result"
    }
   ],
   "source": [
    "df_twitter_clean['rating_denominator'].value_counts()"
   ]
  },
  {
   "cell_type": "markdown",
   "id": "5ccda6d4-1fe2-40d6-bab6-651e43dbc1f4",
   "metadata": {
    "tags": []
   },
   "source": [
    "### 3.2 Correcting the image prediction column names"
   ]
  },
  {
   "cell_type": "code",
   "execution_count": 116,
   "id": "1dea33cd-f862-40a5-b62a-eba56ca9ea51",
   "metadata": {},
   "outputs": [
    {
     "data": {
      "text/plain": [
       "['tweet_id',\n",
       " 'jpg_url',\n",
       " 'img_num',\n",
       " 'p1',\n",
       " 'p1_conf',\n",
       " 'p1_dog',\n",
       " 'p2',\n",
       " 'p2_conf',\n",
       " 'p2_dog',\n",
       " 'p3',\n",
       " 'p3_conf',\n",
       " 'p3_dog']"
      ]
     },
     "execution_count": 116,
     "metadata": {},
     "output_type": "execute_result"
    }
   ],
   "source": [
    "#old names\n",
    "list(image_df_clean)"
   ]
  },
  {
   "cell_type": "code",
   "execution_count": 117,
   "id": "a2461ed5-8b9c-4936-bc28-b79360dc4f3e",
   "metadata": {},
   "outputs": [],
   "source": [
    "# setting new names\n",
    "# New descriptive columns' names\n",
    "columns = ['tweet_id', 'jpg_url', 'img_num',\n",
    "           'prediction1', '1st_confidence', 'its_dog_1', \n",
    "           'prediction2', '2nd_confidence', 'its_dog_2',\n",
    "           'prediction3', '3rd_confidence', 'its_dog_3',]\n",
    "\n",
    "image_df_clean.columns = columns"
   ]
  },
  {
   "cell_type": "markdown",
   "id": "0cfaa48b-92e0-4dcf-bcdd-cc5d521e0d3d",
   "metadata": {},
   "source": [
    "**Test**"
   ]
  },
  {
   "cell_type": "code",
   "execution_count": 118,
   "id": "7c4e9bc6-892d-4946-9755-7ba688579f95",
   "metadata": {},
   "outputs": [
    {
     "data": {
      "text/html": [
       "<div>\n",
       "<style scoped>\n",
       "    .dataframe tbody tr th:only-of-type {\n",
       "        vertical-align: middle;\n",
       "    }\n",
       "\n",
       "    .dataframe tbody tr th {\n",
       "        vertical-align: top;\n",
       "    }\n",
       "\n",
       "    .dataframe thead th {\n",
       "        text-align: right;\n",
       "    }\n",
       "</style>\n",
       "<table border=\"1\" class=\"dataframe\">\n",
       "  <thead>\n",
       "    <tr style=\"text-align: right;\">\n",
       "      <th></th>\n",
       "      <th>tweet_id</th>\n",
       "      <th>jpg_url</th>\n",
       "      <th>img_num</th>\n",
       "      <th>prediction1</th>\n",
       "      <th>1st_confidence</th>\n",
       "      <th>its_dog_1</th>\n",
       "      <th>prediction2</th>\n",
       "      <th>2nd_confidence</th>\n",
       "      <th>its_dog_2</th>\n",
       "      <th>prediction3</th>\n",
       "      <th>3rd_confidence</th>\n",
       "      <th>its_dog_3</th>\n",
       "    </tr>\n",
       "  </thead>\n",
       "  <tbody>\n",
       "    <tr>\n",
       "      <th>208</th>\n",
       "      <td>669970042633789440</td>\n",
       "      <td>https://pbs.twimg.com/media/CUw2MV4XIAAHLO_.jpg</td>\n",
       "      <td>1</td>\n",
       "      <td>miniature_pinscher</td>\n",
       "      <td>0.734744</td>\n",
       "      <td>True</td>\n",
       "      <td>Rottweiler</td>\n",
       "      <td>0.131066</td>\n",
       "      <td>True</td>\n",
       "      <td>Doberman</td>\n",
       "      <td>0.081509</td>\n",
       "      <td>True</td>\n",
       "    </tr>\n",
       "  </tbody>\n",
       "</table>\n",
       "</div>"
      ],
      "text/plain": [
       "               tweet_id                                          jpg_url  \\\n",
       "208  669970042633789440  https://pbs.twimg.com/media/CUw2MV4XIAAHLO_.jpg   \n",
       "\n",
       "     img_num         prediction1  1st_confidence  its_dog_1 prediction2  \\\n",
       "208        1  miniature_pinscher        0.734744       True  Rottweiler   \n",
       "\n",
       "     2nd_confidence  its_dog_2 prediction3  3rd_confidence  its_dog_3  \n",
       "208        0.131066       True    Doberman        0.081509       True  "
      ]
     },
     "execution_count": 118,
     "metadata": {},
     "output_type": "execute_result"
    }
   ],
   "source": [
    "image_df_clean.sample()"
   ]
  },
  {
   "cell_type": "markdown",
   "id": "a446b1e5-13f6-4c66-bf96-b4e5c53d8660",
   "metadata": {
    "tags": []
   },
   "source": [
    "### 3.3 Fixing Tidiness Issues"
   ]
  },
  {
   "cell_type": "markdown",
   "id": "2cb62579-5381-40f7-a225-c332b6f3c01a",
   "metadata": {},
   "source": [
    "**Define**\n",
    "> Converting doggo, floofer, pupper and puppo to categorical data by melting into one column dog_type"
   ]
  },
  {
   "cell_type": "markdown",
   "id": "0991346d-df0f-49fe-a5db-eb66e98e645b",
   "metadata": {},
   "source": [
    "**Code**"
   ]
  },
  {
   "cell_type": "code",
   "execution_count": 119,
   "id": "478c4676-9178-4db7-9a6f-5b7ed42c9ce8",
   "metadata": {},
   "outputs": [],
   "source": [
    "#removing None values\n",
    "df_twitter_clean.iloc[:, -4: ] = df_twitter_clean.iloc[:, -4: ].replace(\"None\", '')"
   ]
  },
  {
   "cell_type": "code",
   "execution_count": 120,
   "id": "036e274d-d8d0-4328-ba97-4ec49d88d891",
   "metadata": {},
   "outputs": [],
   "source": [
    "#combine the dog types\n",
    "df_twitter_clean['dog_type'] = df_twitter_clean.doggo + df_twitter_clean.floofer + df_twitter_clean.pupper + df_twitter_clean.puppo"
   ]
  },
  {
   "cell_type": "code",
   "execution_count": 121,
   "id": "e8a90e8f-892c-46b2-abf2-0611361e9b4c",
   "metadata": {},
   "outputs": [],
   "source": [
    "#Removing old columns\n",
    "df_twitter_clean.drop(columns=['doggo', 'floofer', 'pupper', 'puppo'], inplace=True)"
   ]
  },
  {
   "cell_type": "markdown",
   "id": "a0375394-5de8-48bd-8fcb-e6306807a411",
   "metadata": {},
   "source": [
    "**Test**"
   ]
  },
  {
   "cell_type": "code",
   "execution_count": 122,
   "id": "defcd37e-e8f8-4860-923e-1243379a98cd",
   "metadata": {},
   "outputs": [
    {
     "name": "stdout",
     "output_type": "stream",
     "text": [
      "<class 'pandas.core.frame.DataFrame'>\n",
      "Int64Index: 1718 entries, 0 to 2350\n",
      "Data columns (total 8 columns):\n",
      " #   Column              Non-Null Count  Dtype              \n",
      "---  ------              --------------  -----              \n",
      " 0   tweet_id            1718 non-null   int64              \n",
      " 1   timestamp           1718 non-null   datetime64[ns, UTC]\n",
      " 2   source              1718 non-null   object             \n",
      " 3   text                1718 non-null   object             \n",
      " 4   rating_numerator    1718 non-null   int64              \n",
      " 5   rating_denominator  1718 non-null   int64              \n",
      " 6   name                1164 non-null   object             \n",
      " 7   dog_type            1718 non-null   object             \n",
      "dtypes: datetime64[ns, UTC](1), int64(3), object(4)\n",
      "memory usage: 120.8+ KB\n"
     ]
    }
   ],
   "source": [
    "df_twitter_clean.info()"
   ]
  },
  {
   "cell_type": "code",
   "execution_count": 123,
   "id": "b6bb2205-ad2b-4d98-bf14-168f40e7210a",
   "metadata": {},
   "outputs": [],
   "source": [
    "df_twitter_clean.dropna(inplace= True)"
   ]
  },
  {
   "cell_type": "code",
   "execution_count": 124,
   "id": "0ea9343b-ef70-46db-bd3b-8f63b8f5f466",
   "metadata": {},
   "outputs": [
    {
     "data": {
      "text/html": [
       "<div>\n",
       "<style scoped>\n",
       "    .dataframe tbody tr th:only-of-type {\n",
       "        vertical-align: middle;\n",
       "    }\n",
       "\n",
       "    .dataframe tbody tr th {\n",
       "        vertical-align: top;\n",
       "    }\n",
       "\n",
       "    .dataframe thead th {\n",
       "        text-align: right;\n",
       "    }\n",
       "</style>\n",
       "<table border=\"1\" class=\"dataframe\">\n",
       "  <thead>\n",
       "    <tr style=\"text-align: right;\">\n",
       "      <th></th>\n",
       "      <th>tweet_id</th>\n",
       "      <th>timestamp</th>\n",
       "      <th>source</th>\n",
       "      <th>text</th>\n",
       "      <th>rating_numerator</th>\n",
       "      <th>rating_denominator</th>\n",
       "      <th>name</th>\n",
       "      <th>dog_type</th>\n",
       "    </tr>\n",
       "  </thead>\n",
       "  <tbody>\n",
       "    <tr>\n",
       "      <th>1222</th>\n",
       "      <td>714258258790387713</td>\n",
       "      <td>2016-03-28 01:10:13+00:00</td>\n",
       "      <td>&lt;a href=\"http://twitter.com/download/iphone\" r...</td>\n",
       "      <td>Meet Travis and Flurp. Travis is pretty chill ...</td>\n",
       "      <td>10</td>\n",
       "      <td>10</td>\n",
       "      <td>Travis</td>\n",
       "      <td></td>\n",
       "    </tr>\n",
       "    <tr>\n",
       "      <th>1496</th>\n",
       "      <td>692530551048294401</td>\n",
       "      <td>2016-01-28 02:12:04+00:00</td>\n",
       "      <td>&lt;a href=\"http://twitter.com/download/iphone\" r...</td>\n",
       "      <td>Say hello to Cody. He's been to like 80 countr...</td>\n",
       "      <td>10</td>\n",
       "      <td>10</td>\n",
       "      <td>Cody</td>\n",
       "      <td></td>\n",
       "    </tr>\n",
       "    <tr>\n",
       "      <th>1038</th>\n",
       "      <td>744334592493166593</td>\n",
       "      <td>2016-06-19 01:02:50+00:00</td>\n",
       "      <td>&lt;a href=\"http://twitter.com/download/iphone\" r...</td>\n",
       "      <td>This is Blanket. She has overthrown her human....</td>\n",
       "      <td>11</td>\n",
       "      <td>10</td>\n",
       "      <td>Blanket</td>\n",
       "      <td></td>\n",
       "    </tr>\n",
       "    <tr>\n",
       "      <th>1367</th>\n",
       "      <td>702598099714314240</td>\n",
       "      <td>2016-02-24 20:56:55+00:00</td>\n",
       "      <td>&lt;a href=\"http://twitter.com/download/iphone\" r...</td>\n",
       "      <td>This is Sansa. She's gotten too big for her ch...</td>\n",
       "      <td>11</td>\n",
       "      <td>10</td>\n",
       "      <td>Sansa</td>\n",
       "      <td>pupper</td>\n",
       "    </tr>\n",
       "    <tr>\n",
       "      <th>2046</th>\n",
       "      <td>671520732782923777</td>\n",
       "      <td>2015-12-01 02:46:33+00:00</td>\n",
       "      <td>&lt;a href=\"http://twitter.com/download/iphone\" r...</td>\n",
       "      <td>Meet Alejandro. He's an extremely seductive pu...</td>\n",
       "      <td>10</td>\n",
       "      <td>10</td>\n",
       "      <td>Alejandro</td>\n",
       "      <td></td>\n",
       "    </tr>\n",
       "  </tbody>\n",
       "</table>\n",
       "</div>"
      ],
      "text/plain": [
       "                tweet_id                 timestamp  \\\n",
       "1222  714258258790387713 2016-03-28 01:10:13+00:00   \n",
       "1496  692530551048294401 2016-01-28 02:12:04+00:00   \n",
       "1038  744334592493166593 2016-06-19 01:02:50+00:00   \n",
       "1367  702598099714314240 2016-02-24 20:56:55+00:00   \n",
       "2046  671520732782923777 2015-12-01 02:46:33+00:00   \n",
       "\n",
       "                                                 source  \\\n",
       "1222  <a href=\"http://twitter.com/download/iphone\" r...   \n",
       "1496  <a href=\"http://twitter.com/download/iphone\" r...   \n",
       "1038  <a href=\"http://twitter.com/download/iphone\" r...   \n",
       "1367  <a href=\"http://twitter.com/download/iphone\" r...   \n",
       "2046  <a href=\"http://twitter.com/download/iphone\" r...   \n",
       "\n",
       "                                                   text  rating_numerator  \\\n",
       "1222  Meet Travis and Flurp. Travis is pretty chill ...                10   \n",
       "1496  Say hello to Cody. He's been to like 80 countr...                10   \n",
       "1038  This is Blanket. She has overthrown her human....                11   \n",
       "1367  This is Sansa. She's gotten too big for her ch...                11   \n",
       "2046  Meet Alejandro. He's an extremely seductive pu...                10   \n",
       "\n",
       "      rating_denominator       name dog_type  \n",
       "1222                  10     Travis           \n",
       "1496                  10       Cody           \n",
       "1038                  10    Blanket           \n",
       "1367                  10      Sansa   pupper  \n",
       "2046                  10  Alejandro           "
      ]
     },
     "execution_count": 124,
     "metadata": {},
     "output_type": "execute_result"
    }
   ],
   "source": [
    "df_twitter_clean.sample(5)"
   ]
  },
  {
   "cell_type": "markdown",
   "id": "6f907ae9-8bbd-4196-9d59-a51f873a9be9",
   "metadata": {},
   "source": [
    "**Define**\n",
    "> converting column 1st_prediction, 2nd_prediction and 3rd_prediction in image prediction to categorical data\n"
   ]
  },
  {
   "cell_type": "markdown",
   "id": "89fbe517-e3db-446e-8033-46e7651cf0ba",
   "metadata": {},
   "source": [
    "**Code**"
   ]
  },
  {
   "cell_type": "code",
   "execution_count": 125,
   "id": "d426fccd-a975-42dd-af75-db2de528b246",
   "metadata": {},
   "outputs": [
    {
     "name": "stdout",
     "output_type": "stream",
     "text": [
      "<class 'pandas.core.frame.DataFrame'>\n",
      "RangeIndex: 2075 entries, 0 to 2074\n",
      "Data columns (total 12 columns):\n",
      " #   Column          Non-Null Count  Dtype  \n",
      "---  ------          --------------  -----  \n",
      " 0   tweet_id        2075 non-null   int64  \n",
      " 1   jpg_url         2075 non-null   object \n",
      " 2   img_num         2075 non-null   int64  \n",
      " 3   prediction1     2075 non-null   object \n",
      " 4   1st_confidence  2075 non-null   float64\n",
      " 5   its_dog_1       2075 non-null   bool   \n",
      " 6   prediction2     2075 non-null   object \n",
      " 7   2nd_confidence  2075 non-null   float64\n",
      " 8   its_dog_2       2075 non-null   bool   \n",
      " 9   prediction3     2075 non-null   object \n",
      " 10  3rd_confidence  2075 non-null   float64\n",
      " 11  its_dog_3       2075 non-null   bool   \n",
      "dtypes: bool(3), float64(3), int64(2), object(4)\n",
      "memory usage: 152.1+ KB\n"
     ]
    }
   ],
   "source": [
    "image_df_clean.info()"
   ]
  },
  {
   "cell_type": "code",
   "execution_count": 126,
   "id": "78ab07ab-7eea-4d29-952c-9d6771852d0f",
   "metadata": {},
   "outputs": [],
   "source": [
    "#image_df_clean = image_df_clean.drop(['1st_prediction', '1st_confidence', 'its_dog_1', '2nd_prediction', '2nd_confidence', 'its_dog_2', '3rd_prediction', '3rd_confidence', 'its_dog_3'], axis=1)"
   ]
  },
  {
   "cell_type": "code",
   "execution_count": 127,
   "id": "90c88772-bfe4-4af4-9b5a-b99ce313368a",
   "metadata": {},
   "outputs": [],
   "source": [
    "# Coverting the image_predictions dataset and Using NumPy select to create dog_breed\n",
    "condition1 = [(image_df_clean['its_dog_1'] != True), (image_df_clean['its_dog_2'] != True), (image_df_clean['its_dog_3'] != True)]\n",
    "condition2 = [image_df_clean['prediction1'], image_df_clean['prediction2'], image_df_clean['prediction3']]\n",
    "percentage_confidence = [image_df_clean['1st_confidence'], image_df_clean['2nd_confidence'], image_df_clean['3rd_confidence']]\n",
    "image_df_clean['dog_breed'] = np.select(condition1, condition2)\n",
    "image_df_clean['percentage_conf'] = np.select(condition1, percentage_confidence)\n",
    "image_df_clean['dog_breed'] = image_df_clean['dog_breed'].astype('category')\n"
   ]
  },
  {
   "cell_type": "markdown",
   "id": "38f5455d-0ad7-4ea3-9ab2-cb90ef8c53d1",
   "metadata": {},
   "source": [
    "**Test**"
   ]
  },
  {
   "cell_type": "code",
   "execution_count": 128,
   "id": "6ed21af2-44d0-471b-982d-b5f570bb322e",
   "metadata": {},
   "outputs": [
    {
     "data": {
      "text/html": [
       "<div>\n",
       "<style scoped>\n",
       "    .dataframe tbody tr th:only-of-type {\n",
       "        vertical-align: middle;\n",
       "    }\n",
       "\n",
       "    .dataframe tbody tr th {\n",
       "        vertical-align: top;\n",
       "    }\n",
       "\n",
       "    .dataframe thead th {\n",
       "        text-align: right;\n",
       "    }\n",
       "</style>\n",
       "<table border=\"1\" class=\"dataframe\">\n",
       "  <thead>\n",
       "    <tr style=\"text-align: right;\">\n",
       "      <th></th>\n",
       "      <th>tweet_id</th>\n",
       "      <th>jpg_url</th>\n",
       "      <th>img_num</th>\n",
       "      <th>prediction1</th>\n",
       "      <th>1st_confidence</th>\n",
       "      <th>its_dog_1</th>\n",
       "      <th>prediction2</th>\n",
       "      <th>2nd_confidence</th>\n",
       "      <th>its_dog_2</th>\n",
       "      <th>prediction3</th>\n",
       "      <th>3rd_confidence</th>\n",
       "      <th>its_dog_3</th>\n",
       "      <th>dog_breed</th>\n",
       "      <th>percentage_conf</th>\n",
       "    </tr>\n",
       "  </thead>\n",
       "  <tbody>\n",
       "    <tr>\n",
       "      <th>780</th>\n",
       "      <td>689977555533848577</td>\n",
       "      <td>https://pbs.twimg.com/media/CZNK7NpWwAEAqUh.jpg</td>\n",
       "      <td>1</td>\n",
       "      <td>cowboy_hat</td>\n",
       "      <td>0.291081</td>\n",
       "      <td>False</td>\n",
       "      <td>Labrador_retriever</td>\n",
       "      <td>0.179625</td>\n",
       "      <td>True</td>\n",
       "      <td>sombrero</td>\n",
       "      <td>0.121493</td>\n",
       "      <td>False</td>\n",
       "      <td>cowboy_hat</td>\n",
       "      <td>0.291081</td>\n",
       "    </tr>\n",
       "    <tr>\n",
       "      <th>797</th>\n",
       "      <td>691090071332753408</td>\n",
       "      <td>https://pbs.twimg.com/media/CZc-u7IXEAQHV1N.jpg</td>\n",
       "      <td>1</td>\n",
       "      <td>barrow</td>\n",
       "      <td>0.241637</td>\n",
       "      <td>False</td>\n",
       "      <td>tub</td>\n",
       "      <td>0.238450</td>\n",
       "      <td>False</td>\n",
       "      <td>bathtub</td>\n",
       "      <td>0.167285</td>\n",
       "      <td>False</td>\n",
       "      <td>barrow</td>\n",
       "      <td>0.241637</td>\n",
       "    </tr>\n",
       "  </tbody>\n",
       "</table>\n",
       "</div>"
      ],
      "text/plain": [
       "               tweet_id                                          jpg_url  \\\n",
       "780  689977555533848577  https://pbs.twimg.com/media/CZNK7NpWwAEAqUh.jpg   \n",
       "797  691090071332753408  https://pbs.twimg.com/media/CZc-u7IXEAQHV1N.jpg   \n",
       "\n",
       "     img_num prediction1  1st_confidence  its_dog_1         prediction2  \\\n",
       "780        1  cowboy_hat        0.291081      False  Labrador_retriever   \n",
       "797        1      barrow        0.241637      False                 tub   \n",
       "\n",
       "     2nd_confidence  its_dog_2 prediction3  3rd_confidence  its_dog_3  \\\n",
       "780        0.179625       True    sombrero        0.121493      False   \n",
       "797        0.238450      False     bathtub        0.167285      False   \n",
       "\n",
       "      dog_breed  percentage_conf  \n",
       "780  cowboy_hat         0.291081  \n",
       "797      barrow         0.241637  "
      ]
     },
     "execution_count": 128,
     "metadata": {},
     "output_type": "execute_result"
    }
   ],
   "source": [
    "image_df_clean.sample(2)"
   ]
  },
  {
   "cell_type": "code",
   "execution_count": 129,
   "id": "60d7051d-5f9a-4eb1-acc8-39543f47fcbf",
   "metadata": {},
   "outputs": [
    {
     "data": {
      "text/html": [
       "<div>\n",
       "<style scoped>\n",
       "    .dataframe tbody tr th:only-of-type {\n",
       "        vertical-align: middle;\n",
       "    }\n",
       "\n",
       "    .dataframe tbody tr th {\n",
       "        vertical-align: top;\n",
       "    }\n",
       "\n",
       "    .dataframe thead th {\n",
       "        text-align: right;\n",
       "    }\n",
       "</style>\n",
       "<table border=\"1\" class=\"dataframe\">\n",
       "  <thead>\n",
       "    <tr style=\"text-align: right;\">\n",
       "      <th></th>\n",
       "      <th>id</th>\n",
       "      <th>retweet_count</th>\n",
       "      <th>favorite_count</th>\n",
       "    </tr>\n",
       "  </thead>\n",
       "  <tbody>\n",
       "    <tr>\n",
       "      <th>401</th>\n",
       "      <td>824325613288833024</td>\n",
       "      <td>11848</td>\n",
       "      <td>12999</td>\n",
       "    </tr>\n",
       "  </tbody>\n",
       "</table>\n",
       "</div>"
      ],
      "text/plain": [
       "                     id  retweet_count  favorite_count\n",
       "401  824325613288833024          11848           12999"
      ]
     },
     "execution_count": 129,
     "metadata": {},
     "output_type": "execute_result"
    }
   ],
   "source": [
    "json_df_clean.sample()"
   ]
  },
  {
   "cell_type": "code",
   "execution_count": 130,
   "id": "782575c2-93ec-489d-bc7a-6a947321cfd0",
   "metadata": {},
   "outputs": [],
   "source": [
    "#renaming the id column to tweet_id in the twitter api file\n",
    "json_df_clean.rename(columns = {'id': 'tweet_id'}, inplace = True)"
   ]
  },
  {
   "cell_type": "code",
   "execution_count": 131,
   "id": "9a90c103-92d8-446b-8fcb-97a30c7a427d",
   "metadata": {},
   "outputs": [
    {
     "name": "stdout",
     "output_type": "stream",
     "text": [
      "<class 'pandas.core.frame.DataFrame'>\n",
      "RangeIndex: 2354 entries, 0 to 2353\n",
      "Data columns (total 3 columns):\n",
      " #   Column          Non-Null Count  Dtype\n",
      "---  ------          --------------  -----\n",
      " 0   tweet_id        2354 non-null   int64\n",
      " 1   retweet_count   2354 non-null   int64\n",
      " 2   favorite_count  2354 non-null   int64\n",
      "dtypes: int64(3)\n",
      "memory usage: 55.3 KB\n"
     ]
    }
   ],
   "source": [
    "json_df_clean.info()"
   ]
  },
  {
   "cell_type": "code",
   "execution_count": 132,
   "id": "6484ce5e-0273-4697-b81d-d2487da29c89",
   "metadata": {},
   "outputs": [
    {
     "name": "stdout",
     "output_type": "stream",
     "text": [
      "<class 'pandas.core.frame.DataFrame'>\n",
      "Int64Index: 1164 entries, 0 to 2325\n",
      "Data columns (total 8 columns):\n",
      " #   Column              Non-Null Count  Dtype              \n",
      "---  ------              --------------  -----              \n",
      " 0   tweet_id            1164 non-null   int64              \n",
      " 1   timestamp           1164 non-null   datetime64[ns, UTC]\n",
      " 2   source              1164 non-null   object             \n",
      " 3   text                1164 non-null   object             \n",
      " 4   rating_numerator    1164 non-null   int64              \n",
      " 5   rating_denominator  1164 non-null   int64              \n",
      " 6   name                1164 non-null   object             \n",
      " 7   dog_type            1164 non-null   object             \n",
      "dtypes: datetime64[ns, UTC](1), int64(3), object(4)\n",
      "memory usage: 81.8+ KB\n"
     ]
    }
   ],
   "source": [
    "df_twitter_clean.info()"
   ]
  },
  {
   "cell_type": "markdown",
   "id": "c56086c0-87f5-4014-b60f-85045c488dd7",
   "metadata": {
    "tags": []
   },
   "source": [
    "## 4. Storing The Data"
   ]
  },
  {
   "cell_type": "code",
   "execution_count": 133,
   "id": "bd80dd4a-c88b-4624-845a-7f5afeca721b",
   "metadata": {},
   "outputs": [
    {
     "name": "stdout",
     "output_type": "stream",
     "text": [
      "<class 'pandas.core.frame.DataFrame'>\n",
      "Int64Index: 1120 entries, 0 to 1119\n",
      "Data columns (total 23 columns):\n",
      " #   Column              Non-Null Count  Dtype              \n",
      "---  ------              --------------  -----              \n",
      " 0   tweet_id            1120 non-null   int64              \n",
      " 1   timestamp           1120 non-null   datetime64[ns, UTC]\n",
      " 2   source              1120 non-null   object             \n",
      " 3   text                1120 non-null   object             \n",
      " 4   rating_numerator    1120 non-null   int64              \n",
      " 5   rating_denominator  1120 non-null   int64              \n",
      " 6   name                1120 non-null   object             \n",
      " 7   dog_type            1120 non-null   object             \n",
      " 8   jpg_url             1120 non-null   object             \n",
      " 9   img_num             1120 non-null   int64              \n",
      " 10  prediction1         1120 non-null   object             \n",
      " 11  1st_confidence      1120 non-null   float64            \n",
      " 12  its_dog_1           1120 non-null   bool               \n",
      " 13  prediction2         1120 non-null   object             \n",
      " 14  2nd_confidence      1120 non-null   float64            \n",
      " 15  its_dog_2           1120 non-null   bool               \n",
      " 16  prediction3         1120 non-null   object             \n",
      " 17  3rd_confidence      1120 non-null   float64            \n",
      " 18  its_dog_3           1120 non-null   bool               \n",
      " 19  dog_breed           1120 non-null   category           \n",
      " 20  percentage_conf     1120 non-null   float64            \n",
      " 21  retweet_count       1120 non-null   int64              \n",
      " 22  favorite_count      1120 non-null   int64              \n",
      "dtypes: bool(3), category(1), datetime64[ns, UTC](1), float64(4), int64(6), object(8)\n",
      "memory usage: 191.0+ KB\n",
      "None\n"
     ]
    }
   ],
   "source": [
    "#merging the datasets\n",
    "twitter_archive_master = df_twitter_clean.merge(image_df_clean, on='tweet_id').merge(json_df_clean, on='tweet_id')\n",
    "print(twitter_archive_master.info())"
   ]
  },
  {
   "cell_type": "code",
   "execution_count": 134,
   "id": "d0d89f90-8ade-4e41-b1ba-1e9cc3586b52",
   "metadata": {},
   "outputs": [],
   "source": [
    "#saving the merged dataset to local drive\n",
    "twitter_archive_master.to_csv('twitter_archive_master.csv', index = False)"
   ]
  },
  {
   "cell_type": "markdown",
   "id": "261bff42-eb45-43bb-b068-e35123edb360",
   "metadata": {},
   "source": [
    "## 5. Analysing and Visualising the Data"
   ]
  },
  {
   "cell_type": "markdown",
   "id": "03c88dff-cb2b-4e25-aa48-f39c8b2b731a",
   "metadata": {
    "tags": []
   },
   "source": [
    "### What is the correlation between likes (favorites) and retweets?"
   ]
  },
  {
   "cell_type": "code",
   "execution_count": 135,
   "id": "9f623b3c-083e-4f30-a439-ab559f918bb8",
   "metadata": {},
   "outputs": [
    {
     "data": {
      "text/html": [
       "<div>\n",
       "<style scoped>\n",
       "    .dataframe tbody tr th:only-of-type {\n",
       "        vertical-align: middle;\n",
       "    }\n",
       "\n",
       "    .dataframe tbody tr th {\n",
       "        vertical-align: top;\n",
       "    }\n",
       "\n",
       "    .dataframe thead th {\n",
       "        text-align: right;\n",
       "    }\n",
       "</style>\n",
       "<table border=\"1\" class=\"dataframe\">\n",
       "  <thead>\n",
       "    <tr style=\"text-align: right;\">\n",
       "      <th></th>\n",
       "      <th>tweet_id</th>\n",
       "      <th>timestamp</th>\n",
       "      <th>source</th>\n",
       "      <th>text</th>\n",
       "      <th>rating_numerator</th>\n",
       "      <th>rating_denominator</th>\n",
       "      <th>name</th>\n",
       "      <th>dog_type</th>\n",
       "      <th>jpg_url</th>\n",
       "      <th>img_num</th>\n",
       "      <th>...</th>\n",
       "      <th>prediction2</th>\n",
       "      <th>2nd_confidence</th>\n",
       "      <th>its_dog_2</th>\n",
       "      <th>prediction3</th>\n",
       "      <th>3rd_confidence</th>\n",
       "      <th>its_dog_3</th>\n",
       "      <th>dog_breed</th>\n",
       "      <th>percentage_conf</th>\n",
       "      <th>retweet_count</th>\n",
       "      <th>favorite_count</th>\n",
       "    </tr>\n",
       "  </thead>\n",
       "  <tbody>\n",
       "    <tr>\n",
       "      <th>976</th>\n",
       "      <td>673270968295534593</td>\n",
       "      <td>2015-12-05 22:41:22+00:00</td>\n",
       "      <td>&lt;a href=\"http://twitter.com/download/iphone\" r...</td>\n",
       "      <td>This is Mac. His dad's probably a lawyer. 11/1...</td>\n",
       "      <td>11</td>\n",
       "      <td>10</td>\n",
       "      <td>Mac</td>\n",
       "      <td></td>\n",
       "      <td>https://pbs.twimg.com/media/CVfwXuWWIAAqnoi.jpg</td>\n",
       "      <td>1</td>\n",
       "      <td>...</td>\n",
       "      <td>Maltese_dog</td>\n",
       "      <td>0.166815</td>\n",
       "      <td>True</td>\n",
       "      <td>Old_English_sheepdog</td>\n",
       "      <td>0.132015</td>\n",
       "      <td>True</td>\n",
       "      <td>0</td>\n",
       "      <td>0.000000</td>\n",
       "      <td>400</td>\n",
       "      <td>1134</td>\n",
       "    </tr>\n",
       "    <tr>\n",
       "      <th>1035</th>\n",
       "      <td>670421925039075328</td>\n",
       "      <td>2015-11-28 02:00:17+00:00</td>\n",
       "      <td>&lt;a href=\"http://twitter.com/download/iphone\" r...</td>\n",
       "      <td>Meet Herb. 12/10 https://t.co/tLRyYvCci3</td>\n",
       "      <td>12</td>\n",
       "      <td>10</td>\n",
       "      <td>Herb</td>\n",
       "      <td></td>\n",
       "      <td>https://pbs.twimg.com/media/CU3RLqfW4AE0pbA.jpg</td>\n",
       "      <td>1</td>\n",
       "      <td>...</td>\n",
       "      <td>corn</td>\n",
       "      <td>0.073596</td>\n",
       "      <td>False</td>\n",
       "      <td>bolete</td>\n",
       "      <td>0.054905</td>\n",
       "      <td>False</td>\n",
       "      <td>corn</td>\n",
       "      <td>0.073596</td>\n",
       "      <td>709</td>\n",
       "      <td>1415</td>\n",
       "    </tr>\n",
       "    <tr>\n",
       "      <th>1096</th>\n",
       "      <td>667885044254572545</td>\n",
       "      <td>2015-11-21 01:59:37+00:00</td>\n",
       "      <td>&lt;a href=\"http://twitter.com/download/iphone\" r...</td>\n",
       "      <td>Meet Stu. Stu has stacks on stacks and an eye ...</td>\n",
       "      <td>10</td>\n",
       "      <td>10</td>\n",
       "      <td>Stu</td>\n",
       "      <td></td>\n",
       "      <td>https://pbs.twimg.com/media/CUTN5V4XAAAIa4R.jpg</td>\n",
       "      <td>1</td>\n",
       "      <td>...</td>\n",
       "      <td>golden_retriever</td>\n",
       "      <td>0.087499</td>\n",
       "      <td>True</td>\n",
       "      <td>muzzle</td>\n",
       "      <td>0.075008</td>\n",
       "      <td>False</td>\n",
       "      <td>muzzle</td>\n",
       "      <td>0.075008</td>\n",
       "      <td>530</td>\n",
       "      <td>868</td>\n",
       "    </tr>\n",
       "    <tr>\n",
       "      <th>249</th>\n",
       "      <td>822462944365645825</td>\n",
       "      <td>2017-01-20 15:17:01+00:00</td>\n",
       "      <td>&lt;a href=\"http://twitter.com/download/iphone\" r...</td>\n",
       "      <td>This is Gabe. He was the unequivocal embodimen...</td>\n",
       "      <td>14</td>\n",
       "      <td>10</td>\n",
       "      <td>Gabe</td>\n",
       "      <td>pupper</td>\n",
       "      <td>https://pbs.twimg.com/media/C2n5rUUXEAIXAtv.jpg</td>\n",
       "      <td>3</td>\n",
       "      <td>...</td>\n",
       "      <td>Samoyed</td>\n",
       "      <td>0.023056</td>\n",
       "      <td>True</td>\n",
       "      <td>Maltese_dog</td>\n",
       "      <td>0.008945</td>\n",
       "      <td>True</td>\n",
       "      <td>0</td>\n",
       "      <td>0.000000</td>\n",
       "      <td>17209</td>\n",
       "      <td>31800</td>\n",
       "    </tr>\n",
       "    <tr>\n",
       "      <th>430</th>\n",
       "      <td>780800785462489090</td>\n",
       "      <td>2016-09-27 16:06:28+00:00</td>\n",
       "      <td>&lt;a href=\"http://twitter.com/download/iphone\" r...</td>\n",
       "      <td>This is Koda. He has a weird relationship with...</td>\n",
       "      <td>11</td>\n",
       "      <td>10</td>\n",
       "      <td>Koda</td>\n",
       "      <td></td>\n",
       "      <td>https://pbs.twimg.com/media/CtX2Kr9XYAAuxrM.jpg</td>\n",
       "      <td>2</td>\n",
       "      <td>...</td>\n",
       "      <td>Eskimo_dog</td>\n",
       "      <td>0.035346</td>\n",
       "      <td>True</td>\n",
       "      <td>Pembroke</td>\n",
       "      <td>0.008862</td>\n",
       "      <td>True</td>\n",
       "      <td>0</td>\n",
       "      <td>0.000000</td>\n",
       "      <td>1505</td>\n",
       "      <td>6141</td>\n",
       "    </tr>\n",
       "  </tbody>\n",
       "</table>\n",
       "<p>5 rows × 23 columns</p>\n",
       "</div>"
      ],
      "text/plain": [
       "                tweet_id                 timestamp  \\\n",
       "976   673270968295534593 2015-12-05 22:41:22+00:00   \n",
       "1035  670421925039075328 2015-11-28 02:00:17+00:00   \n",
       "1096  667885044254572545 2015-11-21 01:59:37+00:00   \n",
       "249   822462944365645825 2017-01-20 15:17:01+00:00   \n",
       "430   780800785462489090 2016-09-27 16:06:28+00:00   \n",
       "\n",
       "                                                 source  \\\n",
       "976   <a href=\"http://twitter.com/download/iphone\" r...   \n",
       "1035  <a href=\"http://twitter.com/download/iphone\" r...   \n",
       "1096  <a href=\"http://twitter.com/download/iphone\" r...   \n",
       "249   <a href=\"http://twitter.com/download/iphone\" r...   \n",
       "430   <a href=\"http://twitter.com/download/iphone\" r...   \n",
       "\n",
       "                                                   text  rating_numerator  \\\n",
       "976   This is Mac. His dad's probably a lawyer. 11/1...                11   \n",
       "1035           Meet Herb. 12/10 https://t.co/tLRyYvCci3                12   \n",
       "1096  Meet Stu. Stu has stacks on stacks and an eye ...                10   \n",
       "249   This is Gabe. He was the unequivocal embodimen...                14   \n",
       "430   This is Koda. He has a weird relationship with...                11   \n",
       "\n",
       "      rating_denominator  name dog_type  \\\n",
       "976                   10   Mac            \n",
       "1035                  10  Herb            \n",
       "1096                  10   Stu            \n",
       "249                   10  Gabe   pupper   \n",
       "430                   10  Koda            \n",
       "\n",
       "                                              jpg_url  img_num  ...  \\\n",
       "976   https://pbs.twimg.com/media/CVfwXuWWIAAqnoi.jpg        1  ...   \n",
       "1035  https://pbs.twimg.com/media/CU3RLqfW4AE0pbA.jpg        1  ...   \n",
       "1096  https://pbs.twimg.com/media/CUTN5V4XAAAIa4R.jpg        1  ...   \n",
       "249   https://pbs.twimg.com/media/C2n5rUUXEAIXAtv.jpg        3  ...   \n",
       "430   https://pbs.twimg.com/media/CtX2Kr9XYAAuxrM.jpg        2  ...   \n",
       "\n",
       "           prediction2  2nd_confidence  its_dog_2           prediction3  \\\n",
       "976        Maltese_dog        0.166815       True  Old_English_sheepdog   \n",
       "1035              corn        0.073596      False                bolete   \n",
       "1096  golden_retriever        0.087499       True                muzzle   \n",
       "249            Samoyed        0.023056       True           Maltese_dog   \n",
       "430         Eskimo_dog        0.035346       True              Pembroke   \n",
       "\n",
       "      3rd_confidence  its_dog_3 dog_breed  percentage_conf  retweet_count  \\\n",
       "976         0.132015       True         0         0.000000            400   \n",
       "1035        0.054905      False      corn         0.073596            709   \n",
       "1096        0.075008      False    muzzle         0.075008            530   \n",
       "249         0.008945       True         0         0.000000          17209   \n",
       "430         0.008862       True         0         0.000000           1505   \n",
       "\n",
       "     favorite_count  \n",
       "976            1134  \n",
       "1035           1415  \n",
       "1096            868  \n",
       "249           31800  \n",
       "430            6141  \n",
       "\n",
       "[5 rows x 23 columns]"
      ]
     },
     "execution_count": 135,
     "metadata": {},
     "output_type": "execute_result"
    }
   ],
   "source": [
    "twitter_archive_master.sample(5)"
   ]
  },
  {
   "cell_type": "code",
   "execution_count": 136,
   "id": "01b2153b-0c1d-4b0f-a6e4-48c332ee4226",
   "metadata": {},
   "outputs": [
    {
     "data": {
      "text/plain": [
       "<matplotlib.legend.Legend at 0x17602a5f160>"
      ]
     },
     "execution_count": 136,
     "metadata": {},
     "output_type": "execute_result"
    },
    {
     "data": {
      "image/png": "[encoded data removed]",
      "text/plain": [
       "<Figure size 1400x800 with 1 Axes>"
      ]
     },
     "metadata": {},
     "output_type": "display_data"
    }
   ],
   "source": [
    "plt.figure(figsize=(14, 8))\n",
    "plt.hist(twitter_archive_master.favorite_count, label = 'Likes')\n",
    "plt.hist(twitter_archive_master.retweet_count, label = 'Retweets')\n",
    "plt.title('Distribution of likes(Favorites) and Retweets Counts', fontsize = 16)\n",
    "plt.xlabel('Number of likes and Retweets', fontsize = 16)\n",
    "plt.ylabel('Counts', fontsize = 16)\n",
    "plt.xlim(-1, 60000)\n",
    "\n",
    "plt.legend()"
   ]
  },
  {
   "cell_type": "code",
   "execution_count": 137,
   "id": "82fe5fb9-eddc-45aa-8e17-72d68ed45f65",
   "metadata": {},
   "outputs": [
    {
     "data": {
      "text/plain": [
       "Text(0, 0.5, 'Likes')"
      ]
     },
     "execution_count": 137,
     "metadata": {},
     "output_type": "execute_result"
    },
    {
     "data": {
      "image/png": "[encoded data removed]",
      "text/plain": [
       "<Figure size 800x500 with 1 Axes>"
      ]
     },
     "metadata": {},
     "output_type": "display_data"
    }
   ],
   "source": [
    "# using scatter plot to check for correlation\n",
    "plt.figure(figsize=(8,5))\n",
    "sns.regplot(data = twitter_archive_master, x='retweet_count', y='favorite_count', color = '#7eb54e')\n",
    "plt.title('Correlation between likes and retweets', fontsize = 16)\n",
    "plt.xlabel('Retweets', fontsize = 16)\n",
    "plt.ylabel('Likes', fontsize = 16)"
   ]
  },
  {
   "cell_type": "markdown",
   "id": "717482bf-cbce-4e2c-980e-d8de950c3d1d",
   "metadata": {},
   "source": [
    "> The charts show a good correlation between likes and retweets. The number of retweets increases as the number of likes increases"
   ]
  },
  {
   "cell_type": "markdown",
   "id": "612084e7-d6ed-4839-9574-1f00190c6dd3",
   "metadata": {
    "tags": []
   },
   "source": [
    "### Which device has the highest number of tweets?"
   ]
  },
  {
   "cell_type": "code",
   "execution_count": 138,
   "id": "8f5e38fb-7252-4d98-bff8-566d44c0a3a1",
   "metadata": {},
   "outputs": [
    {
     "data": {
      "image/png": "[encoded data removed]",
      "text/plain": [
       "<Figure size 700x700 with 1 Axes>"
      ]
     },
     "metadata": {},
     "output_type": "display_data"
    }
   ],
   "source": [
    "# pie chart representing device distribution\n",
    "twitter_archive_master['source'].value_counts().plot.pie(labels = ['iPhone', 'Web Client', 'TweetDeck', 'Vine'], fontsize = 8, figsize = (7,7))\n",
    "plt.title('Pie chart representing device distribution', fontsize = 16)\n",
    "plt.legend()\n",
    "plt.show()"
   ]
  },
  {
   "cell_type": "markdown",
   "id": "f01f7db0-255a-49dc-b383-09985c098d2b",
   "metadata": {},
   "source": [
    "> The pie chart indicates that majority of this twitter was generated by iphone users"
   ]
  },
  {
   "cell_type": "markdown",
   "id": "0a9126fb-6a9d-4342-886a-cb3ef57df88e",
   "metadata": {
    "tags": []
   },
   "source": [
    "### Which month did the user have the highest likes and retweets?"
   ]
  },
  {
   "cell_type": "code",
   "execution_count": 139,
   "id": "46a7b8c6-7dd1-4ca9-b744-a489b3294d9a",
   "metadata": {},
   "outputs": [
    {
     "name": "stderr",
     "output_type": "stream",
     "text": [
      "C:\\Users\\alex2\\AppData\\Local\\Temp\\ipykernel_28132\\1795169963.py:4: SettingWithCopyWarning: \n",
      "A value is trying to be set on a copy of a slice from a DataFrame.\n",
      "Try using .loc[row_indexer,col_indexer] = value instead\n",
      "\n",
      "See the caveats in the documentation: https://pandas.pydata.org/pandas-docs/stable/user_guide/indexing.html#returning-a-view-versus-a-copy\n",
      "  date_tweet['month'] = date_tweet.timestamp.dt.month_name()\n"
     ]
    }
   ],
   "source": [
    "# number of likes and retweets per month\n",
    "# get date data from the combined dataset\n",
    "date_tweet = twitter_archive_master[['timestamp', 'retweet_count' ,'favorite_count']]\n",
    "date_tweet['month'] = date_tweet.timestamp.dt.month_name()\n"
   ]
  },
  {
   "cell_type": "code",
   "execution_count": 140,
   "id": "2ddf36c4-f905-4efa-ac22-48a5ab27a9c6",
   "metadata": {},
   "outputs": [
    {
     "data": {
      "text/html": [
       "<div>\n",
       "<style scoped>\n",
       "    .dataframe tbody tr th:only-of-type {\n",
       "        vertical-align: middle;\n",
       "    }\n",
       "\n",
       "    .dataframe tbody tr th {\n",
       "        vertical-align: top;\n",
       "    }\n",
       "\n",
       "    .dataframe thead th {\n",
       "        text-align: right;\n",
       "    }\n",
       "</style>\n",
       "<table border=\"1\" class=\"dataframe\">\n",
       "  <thead>\n",
       "    <tr style=\"text-align: right;\">\n",
       "      <th></th>\n",
       "      <th>retweet_count</th>\n",
       "      <th>favorite_count</th>\n",
       "    </tr>\n",
       "    <tr>\n",
       "      <th>month</th>\n",
       "      <th></th>\n",
       "      <th></th>\n",
       "    </tr>\n",
       "  </thead>\n",
       "  <tbody>\n",
       "    <tr>\n",
       "      <th>April</th>\n",
       "      <td>213007</td>\n",
       "      <td>806418</td>\n",
       "    </tr>\n",
       "    <tr>\n",
       "      <th>August</th>\n",
       "      <td>156364</td>\n",
       "      <td>512043</td>\n",
       "    </tr>\n",
       "    <tr>\n",
       "      <th>December</th>\n",
       "      <td>458070</td>\n",
       "      <td>1225418</td>\n",
       "    </tr>\n",
       "    <tr>\n",
       "      <th>February</th>\n",
       "      <td>346652</td>\n",
       "      <td>1311460</td>\n",
       "    </tr>\n",
       "    <tr>\n",
       "      <th>January</th>\n",
       "      <td>385999</td>\n",
       "      <td>1183495</td>\n",
       "    </tr>\n",
       "    <tr>\n",
       "      <th>July</th>\n",
       "      <td>375417</td>\n",
       "      <td>1563768</td>\n",
       "    </tr>\n",
       "    <tr>\n",
       "      <th>June</th>\n",
       "      <td>337357</td>\n",
       "      <td>1318206</td>\n",
       "    </tr>\n",
       "    <tr>\n",
       "      <th>March</th>\n",
       "      <td>295149</td>\n",
       "      <td>1108758</td>\n",
       "    </tr>\n",
       "    <tr>\n",
       "      <th>May</th>\n",
       "      <td>261883</td>\n",
       "      <td>1005926</td>\n",
       "    </tr>\n",
       "    <tr>\n",
       "      <th>November</th>\n",
       "      <td>266434</td>\n",
       "      <td>802707</td>\n",
       "    </tr>\n",
       "    <tr>\n",
       "      <th>October</th>\n",
       "      <td>252471</td>\n",
       "      <td>780495</td>\n",
       "    </tr>\n",
       "    <tr>\n",
       "      <th>September</th>\n",
       "      <td>144065</td>\n",
       "      <td>461154</td>\n",
       "    </tr>\n",
       "  </tbody>\n",
       "</table>\n",
       "</div>"
      ],
      "text/plain": [
       "           retweet_count  favorite_count\n",
       "month                                   \n",
       "April             213007          806418\n",
       "August            156364          512043\n",
       "December          458070         1225418\n",
       "February          346652         1311460\n",
       "January           385999         1183495\n",
       "July              375417         1563768\n",
       "June              337357         1318206\n",
       "March             295149         1108758\n",
       "May               261883         1005926\n",
       "November          266434          802707\n",
       "October           252471          780495\n",
       "September         144065          461154"
      ]
     },
     "execution_count": 140,
     "metadata": {},
     "output_type": "execute_result"
    }
   ],
   "source": [
    "month_tweet = date_tweet.groupby('month').sum()\n",
    "month_tweet"
   ]
  },
  {
   "cell_type": "code",
   "execution_count": 141,
   "id": "c294fcc6-f6ed-4577-b6dc-874fa0276976",
   "metadata": {},
   "outputs": [
    {
     "data": {
      "text/plain": [
       "<matplotlib.legend.Legend at 0x17605ece190>"
      ]
     },
     "execution_count": 141,
     "metadata": {},
     "output_type": "execute_result"
    },
    {
     "data": {
      "image/png": "[encoded data removed]",
      "text/plain": [
       "<Figure size 1200x800 with 1 Axes>"
      ]
     },
     "metadata": {},
     "output_type": "display_data"
    }
   ],
   "source": [
    "#Visualising the table\n",
    "plt.style.use('ggplot')\n",
    "likes_retweets = month_tweet[['retweet_count','favorite_count']].plot(kind = 'bar', title = 'Number of likes and retweets across the months' ,figsize=(12, 8), legend = True, fontsize = 16)\n",
    "likes_retweets.set_xlabel(\"Months\", fontsize = 16)\n",
    "plt.ylabel('Counts in Millions', fontsize = 16)\n",
    "plt.legend(prop={'size':16})\n"
   ]
  },
  {
   "cell_type": "markdown",
   "id": "24035fa7-a21a-43b7-b345-66671c877754",
   "metadata": {},
   "source": [
    "> The month of July had the highest number of likes as seen above. However, December and January appear to have more retweets than July. "
   ]
  },
  {
   "cell_type": "markdown",
   "id": "6f8dd99a-f6d6-4606-a74a-94d2a02b9b72",
   "metadata": {
    "tags": []
   },
   "source": [
    "### Which dog breed is most popular?"
   ]
  },
  {
   "cell_type": "code",
   "execution_count": 142,
   "id": "9915d626-ba20-4a1a-a67f-b537169ce280",
   "metadata": {},
   "outputs": [],
   "source": [
    "images_copy = twitter_archive_master[['tweet_id' ,'prediction1' ,'1st_confidence', 'its_dog_1', 'favorite_count']]"
   ]
  },
  {
   "cell_type": "code",
   "execution_count": 143,
   "id": "981e07e8-539f-4cc8-9b68-00cdb42bac52",
   "metadata": {},
   "outputs": [],
   "source": [
    "# getting only true its_dog_1 value. that is, selecting only when it is a dog\n",
    "images_copy = images_copy[images_copy['its_dog_1'] == True]"
   ]
  },
  {
   "cell_type": "code",
   "execution_count": 144,
   "id": "57bbe465-25db-4844-83f5-1f763a994395",
   "metadata": {},
   "outputs": [
    {
     "data": {
      "text/html": [
       "<div>\n",
       "<style scoped>\n",
       "    .dataframe tbody tr th:only-of-type {\n",
       "        vertical-align: middle;\n",
       "    }\n",
       "\n",
       "    .dataframe tbody tr th {\n",
       "        vertical-align: top;\n",
       "    }\n",
       "\n",
       "    .dataframe thead th {\n",
       "        text-align: right;\n",
       "    }\n",
       "</style>\n",
       "<table border=\"1\" class=\"dataframe\">\n",
       "  <thead>\n",
       "    <tr style=\"text-align: right;\">\n",
       "      <th></th>\n",
       "      <th>tweet_id</th>\n",
       "      <th>prediction1</th>\n",
       "      <th>1st_confidence</th>\n",
       "      <th>its_dog_1</th>\n",
       "      <th>favorite_count</th>\n",
       "    </tr>\n",
       "  </thead>\n",
       "  <tbody>\n",
       "    <tr>\n",
       "      <th>436</th>\n",
       "      <td>778748913645780993</td>\n",
       "      <td>Staffordshire_bullterrier</td>\n",
       "      <td>0.351434</td>\n",
       "      <td>True</td>\n",
       "      <td>7717</td>\n",
       "    </tr>\n",
       "    <tr>\n",
       "      <th>197</th>\n",
       "      <td>832369877331693569</td>\n",
       "      <td>kelpie</td>\n",
       "      <td>0.504690</td>\n",
       "      <td>True</td>\n",
       "      <td>18792</td>\n",
       "    </tr>\n",
       "    <tr>\n",
       "      <th>2</th>\n",
       "      <td>891815181378084864</td>\n",
       "      <td>Chihuahua</td>\n",
       "      <td>0.716012</td>\n",
       "      <td>True</td>\n",
       "      <td>25461</td>\n",
       "    </tr>\n",
       "    <tr>\n",
       "      <th>1111</th>\n",
       "      <td>667119796878725120</td>\n",
       "      <td>Pembroke</td>\n",
       "      <td>0.741563</td>\n",
       "      <td>True</td>\n",
       "      <td>346</td>\n",
       "    </tr>\n",
       "  </tbody>\n",
       "</table>\n",
       "</div>"
      ],
      "text/plain": [
       "                tweet_id                prediction1  1st_confidence  \\\n",
       "436   778748913645780993  Staffordshire_bullterrier        0.351434   \n",
       "197   832369877331693569                     kelpie        0.504690   \n",
       "2     891815181378084864                  Chihuahua        0.716012   \n",
       "1111  667119796878725120                   Pembroke        0.741563   \n",
       "\n",
       "      its_dog_1  favorite_count  \n",
       "436        True            7717  \n",
       "197        True           18792  \n",
       "2          True           25461  \n",
       "1111       True             346  "
      ]
     },
     "execution_count": 144,
     "metadata": {},
     "output_type": "execute_result"
    }
   ],
   "source": [
    "#Test\n",
    "images_copy.sample(4)"
   ]
  },
  {
   "cell_type": "code",
   "execution_count": 145,
   "id": "b82e8582-5be2-4d54-8c3b-5893786647dc",
   "metadata": {},
   "outputs": [
    {
     "data": {
      "text/html": [
       "<div>\n",
       "<style scoped>\n",
       "    .dataframe tbody tr th:only-of-type {\n",
       "        vertical-align: middle;\n",
       "    }\n",
       "\n",
       "    .dataframe tbody tr th {\n",
       "        vertical-align: top;\n",
       "    }\n",
       "\n",
       "    .dataframe thead th {\n",
       "        text-align: right;\n",
       "    }\n",
       "</style>\n",
       "<table border=\"1\" class=\"dataframe\">\n",
       "  <thead>\n",
       "    <tr style=\"text-align: right;\">\n",
       "      <th></th>\n",
       "      <th>prediction1</th>\n",
       "      <th>favorite_count</th>\n",
       "    </tr>\n",
       "  </thead>\n",
       "  <tbody>\n",
       "    <tr>\n",
       "      <th>81</th>\n",
       "      <td>golden_retriever</td>\n",
       "      <td>1214805</td>\n",
       "    </tr>\n",
       "    <tr>\n",
       "      <th>44</th>\n",
       "      <td>Pembroke</td>\n",
       "      <td>744376</td>\n",
       "    </tr>\n",
       "    <tr>\n",
       "      <th>32</th>\n",
       "      <td>Labrador_retriever</td>\n",
       "      <td>706936</td>\n",
       "    </tr>\n",
       "    <tr>\n",
       "      <th>15</th>\n",
       "      <td>Chihuahua</td>\n",
       "      <td>524573</td>\n",
       "    </tr>\n",
       "    <tr>\n",
       "      <th>21</th>\n",
       "      <td>French_bulldog</td>\n",
       "      <td>433549</td>\n",
       "    </tr>\n",
       "    <tr>\n",
       "      <th>74</th>\n",
       "      <td>chow</td>\n",
       "      <td>282174</td>\n",
       "    </tr>\n",
       "    <tr>\n",
       "      <th>75</th>\n",
       "      <td>cocker_spaniel</td>\n",
       "      <td>257860</td>\n",
       "    </tr>\n",
       "    <tr>\n",
       "      <th>93</th>\n",
       "      <td>pug</td>\n",
       "      <td>256939</td>\n",
       "    </tr>\n",
       "    <tr>\n",
       "      <th>50</th>\n",
       "      <td>Samoyed</td>\n",
       "      <td>252088</td>\n",
       "    </tr>\n",
       "    <tr>\n",
       "      <th>100</th>\n",
       "      <td>toy_poodle</td>\n",
       "      <td>230601</td>\n",
       "    </tr>\n",
       "    <tr>\n",
       "      <th>13</th>\n",
       "      <td>Cardigan</td>\n",
       "      <td>225230</td>\n",
       "    </tr>\n",
       "    <tr>\n",
       "      <th>87</th>\n",
       "      <td>malamute</td>\n",
       "      <td>210859</td>\n",
       "    </tr>\n",
       "    <tr>\n",
       "      <th>55</th>\n",
       "      <td>Staffordshire_bullterrier</td>\n",
       "      <td>171788</td>\n",
       "    </tr>\n",
       "    <tr>\n",
       "      <th>45</th>\n",
       "      <td>Pomeranian</td>\n",
       "      <td>171430</td>\n",
       "    </tr>\n",
       "    <tr>\n",
       "      <th>14</th>\n",
       "      <td>Chesapeake_Bay_retriever</td>\n",
       "      <td>168940</td>\n",
       "    </tr>\n",
       "    <tr>\n",
       "      <th>65</th>\n",
       "      <td>basset</td>\n",
       "      <td>155359</td>\n",
       "    </tr>\n",
       "    <tr>\n",
       "      <th>89</th>\n",
       "      <td>miniature_pinscher</td>\n",
       "      <td>142153</td>\n",
       "    </tr>\n",
       "    <tr>\n",
       "      <th>22</th>\n",
       "      <td>German_shepherd</td>\n",
       "      <td>141193</td>\n",
       "    </tr>\n",
       "    <tr>\n",
       "      <th>54</th>\n",
       "      <td>Siberian_husky</td>\n",
       "      <td>130062</td>\n",
       "    </tr>\n",
       "    <tr>\n",
       "      <th>19</th>\n",
       "      <td>English_springer</td>\n",
       "      <td>118786</td>\n",
       "    </tr>\n",
       "  </tbody>\n",
       "</table>\n",
       "</div>"
      ],
      "text/plain": [
       "                   prediction1  favorite_count\n",
       "81            golden_retriever         1214805\n",
       "44                    Pembroke          744376\n",
       "32          Labrador_retriever          706936\n",
       "15                   Chihuahua          524573\n",
       "21              French_bulldog          433549\n",
       "74                        chow          282174\n",
       "75              cocker_spaniel          257860\n",
       "93                         pug          256939\n",
       "50                     Samoyed          252088\n",
       "100                 toy_poodle          230601\n",
       "13                    Cardigan          225230\n",
       "87                    malamute          210859\n",
       "55   Staffordshire_bullterrier          171788\n",
       "45                  Pomeranian          171430\n",
       "14    Chesapeake_Bay_retriever          168940\n",
       "65                      basset          155359\n",
       "89          miniature_pinscher          142153\n",
       "22             German_shepherd          141193\n",
       "54              Siberian_husky          130062\n",
       "19            English_springer          118786"
      ]
     },
     "execution_count": 145,
     "metadata": {},
     "output_type": "execute_result"
    }
   ],
   "source": [
    "#top 20 dog breeds\n",
    "top_breeds = images_copy.groupby('prediction1').sum().reset_index()\n",
    "top_breeds = top_breeds[['prediction1', 'favorite_count']]\n",
    "top_breeds = top_breeds.sort_values('favorite_count', ascending = False)[:20]\n",
    "top_breeds"
   ]
  },
  {
   "cell_type": "code",
   "execution_count": 146,
   "id": "9af775fd-1bed-4b3e-af67-91f0e66a62e2",
   "metadata": {},
   "outputs": [
    {
     "data": {
      "text/plain": [
       "Text(0.5, 1.0, \"Bar chart of dog's breeds with highest number of likes\")"
      ]
     },
     "execution_count": 146,
     "metadata": {},
     "output_type": "execute_result"
    },
    {
     "data": {
      "image/png": "[encoded data removed]",
      "text/plain": [
       "<Figure size 1000x600 with 1 Axes>"
      ]
     },
     "metadata": {},
     "output_type": "display_data"
    }
   ],
   "source": [
    "plt.figure(figsize=(10, 6))\n",
    "plt.style.use('ggplot')\n",
    "plt.barh(top_breeds['prediction1'], top_breeds.favorite_count) \n",
    "plt.yticks(top_breeds['prediction1'], top_breeds['prediction1'])\n",
    "plt.ylabel('Dog Breeds', fontsize = 16)\n",
    "plt.xlabel('Total number of Likes',fontsize = 16)\n",
    "plt.title('Bar chart of dog\\'s breeds with highest number of likes', color = 'darkblue', fontsize=18)\n"
   ]
  },
  {
   "cell_type": "code",
   "execution_count": null,
   "id": "14829f80-48fe-4b5a-a6ec-49074d2de91f",
   "metadata": {},
   "outputs": [],
   "source": []
  }
 ],
 "metadata": {
  "kernelspec": {
   "display_name": "Python 3 (ipykernel)",
   "language": "python",
   "name": "python3"
  },
  "language_info": {
   "codemirror_mode": {
    "name": "ipython",
    "version": 3
   },
   "file_extension": ".py",
   "mimetype": "text/x-python",
   "name": "python",
   "nbconvert_exporter": "python",
   "pygments_lexer": "ipython3",
   "version": "3.8.13"
  }
 },
 "nbformat": 4,
 "nbformat_minor": 5
}
